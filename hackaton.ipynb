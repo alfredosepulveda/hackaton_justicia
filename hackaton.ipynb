{
  "nbformat": 4,
  "nbformat_minor": 0,
  "metadata": {
    "colab": {
      "name": "hackaton.ipynb",
      "provenance": [],
      "collapsed_sections": [],
      "toc_visible": true,
      "include_colab_link": true
    },
    "kernelspec": {
      "name": "python3",
      "display_name": "Python 3"
    },
    "language_info": {
      "name": "python"
    }
  },
  "cells": [
    {
      "cell_type": "markdown",
      "metadata": {
        "id": "view-in-github",
        "colab_type": "text"
      },
      "source": [
        "<a href=\"https://colab.research.google.com/github/alfredosepulveda/hackaton_justicia/blob/main/hackaton.ipynb\" target=\"_parent\"><img src=\"https://colab.research.google.com/assets/colab-badge.svg\" alt=\"Open In Colab\"/></a>"
      ]
    },
    {
      "cell_type": "markdown",
      "metadata": {
        "id": "RQkclArdC2zi"
      },
      "source": [
        "\n",
        "**Hackathon RIIAA 2021 \"JusticIA para los desaparecidos\"**"
      ]
    },
    {
      "cell_type": "markdown",
      "metadata": {
        "id": "m1BqsJGdDHBT"
      },
      "source": [
        "Equipo **MITOTEC**\n",
        "Integrantes\n",
        "\n",
        "\n",
        "*   Alfredo Sepúlveda Sastre\n",
        "*   Carlos Ortíz López \n",
        "*   Daniel García Hernández\n",
        "*   Rossana Tornel Vázquez \n",
        "\n",
        "\n",
        "\n"
      ]
    },
    {
      "cell_type": "markdown",
      "metadata": {
        "id": "zQqtJtMaD00H"
      },
      "source": [
        "## Descripción \n",
        "El objetivo de este trabajo es encontrar un patrones dentro de las fichas para conocer el *sistema de referencias* que la Dirección Federal de Seguridad (DFS) utilizó durante el periodo conocido como la Guerra Sucia. "
      ]
    },
    {
      "cell_type": "markdown",
      "metadata": {
        "id": "RSCd_OsWG8ld"
      },
      "source": [
        "##Pipeline\n",
        "\n",
        "\n",
        "1.   La base de datos utilizada es la transcripción manual de las fichas (1000 observaciones).\n",
        "2.   Pos tagging con spacy spanish.\n",
        "1.   Extracción de los nombres propios \"PROPN\"\n",
        "2.   Extracción de expedientes \n",
        "1.   Extracción número de Hoja y Legajo\n",
        "1.   Creación de variables dummy de palabras clave: muerto, detenido, secuestro, interrogado, localizar, ...\n",
        "2.   Matriz de similitud de las fichas.\n",
        "\n",
        "\n",
        "\n",
        "\n",
        "\n"
      ]
    },
    {
      "cell_type": "markdown",
      "metadata": {
        "id": "zmYsH9Z4MPJP"
      },
      "source": [
        "# Tagging con spaCy "
      ]
    },
    {
      "cell_type": "markdown",
      "metadata": {
        "id": "rLGXy9GzMa16"
      },
      "source": [
        "\n",
        "\n",
        "> Instalar paqueterías requeridas\n"
      ]
    },
    {
      "cell_type": "code",
      "metadata": {
        "colab": {
          "base_uri": "https://localhost:8080/"
        },
        "id": "080yQrwrNM5s",
        "outputId": "dd331efa-10fd-474a-9106-c29b60f01f11"
      },
      "source": [
        "# install the requirements\n",
        "!pip install spacy\n",
        "!python -m spacy download es_core_news_sm"
      ],
      "execution_count": null,
      "outputs": [
        {
          "output_type": "stream",
          "text": [
            "Requirement already satisfied: spacy in /usr/local/lib/python3.7/dist-packages (2.2.4)\n",
            "Requirement already satisfied: cymem<2.1.0,>=2.0.2 in /usr/local/lib/python3.7/dist-packages (from spacy) (2.0.5)\n",
            "Requirement already satisfied: preshed<3.1.0,>=3.0.2 in /usr/local/lib/python3.7/dist-packages (from spacy) (3.0.5)\n",
            "Requirement already satisfied: numpy>=1.15.0 in /usr/local/lib/python3.7/dist-packages (from spacy) (1.19.5)\n",
            "Requirement already satisfied: murmurhash<1.1.0,>=0.28.0 in /usr/local/lib/python3.7/dist-packages (from spacy) (1.0.5)\n",
            "Requirement already satisfied: catalogue<1.1.0,>=0.0.7 in /usr/local/lib/python3.7/dist-packages (from spacy) (1.0.0)\n",
            "Requirement already satisfied: tqdm<5.0.0,>=4.38.0 in /usr/local/lib/python3.7/dist-packages (from spacy) (4.62.0)\n",
            "Requirement already satisfied: setuptools in /usr/local/lib/python3.7/dist-packages (from spacy) (57.4.0)\n",
            "Requirement already satisfied: requests<3.0.0,>=2.13.0 in /usr/local/lib/python3.7/dist-packages (from spacy) (2.23.0)\n",
            "Requirement already satisfied: blis<0.5.0,>=0.4.0 in /usr/local/lib/python3.7/dist-packages (from spacy) (0.4.1)\n",
            "Requirement already satisfied: srsly<1.1.0,>=1.0.2 in /usr/local/lib/python3.7/dist-packages (from spacy) (1.0.5)\n",
            "Requirement already satisfied: plac<1.2.0,>=0.9.6 in /usr/local/lib/python3.7/dist-packages (from spacy) (1.1.3)\n",
            "Requirement already satisfied: wasabi<1.1.0,>=0.4.0 in /usr/local/lib/python3.7/dist-packages (from spacy) (0.8.2)\n",
            "Requirement already satisfied: thinc==7.4.0 in /usr/local/lib/python3.7/dist-packages (from spacy) (7.4.0)\n",
            "Requirement already satisfied: importlib-metadata>=0.20 in /usr/local/lib/python3.7/dist-packages (from catalogue<1.1.0,>=0.0.7->spacy) (4.6.4)\n",
            "Requirement already satisfied: zipp>=0.5 in /usr/local/lib/python3.7/dist-packages (from importlib-metadata>=0.20->catalogue<1.1.0,>=0.0.7->spacy) (3.5.0)\n",
            "Requirement already satisfied: typing-extensions>=3.6.4 in /usr/local/lib/python3.7/dist-packages (from importlib-metadata>=0.20->catalogue<1.1.0,>=0.0.7->spacy) (3.7.4.3)\n",
            "Requirement already satisfied: chardet<4,>=3.0.2 in /usr/local/lib/python3.7/dist-packages (from requests<3.0.0,>=2.13.0->spacy) (3.0.4)\n",
            "Requirement already satisfied: certifi>=2017.4.17 in /usr/local/lib/python3.7/dist-packages (from requests<3.0.0,>=2.13.0->spacy) (2021.5.30)\n",
            "Requirement already satisfied: idna<3,>=2.5 in /usr/local/lib/python3.7/dist-packages (from requests<3.0.0,>=2.13.0->spacy) (2.10)\n",
            "Requirement already satisfied: urllib3!=1.25.0,!=1.25.1,<1.26,>=1.21.1 in /usr/local/lib/python3.7/dist-packages (from requests<3.0.0,>=2.13.0->spacy) (1.24.3)\n",
            "Collecting es_core_news_sm==2.2.5\n",
            "  Downloading https://github.com/explosion/spacy-models/releases/download/es_core_news_sm-2.2.5/es_core_news_sm-2.2.5.tar.gz (16.2 MB)\n",
            "\u001b[K     |████████████████████████████████| 16.2 MB 5.0 MB/s \n",
            "\u001b[?25hRequirement already satisfied: spacy>=2.2.2 in /usr/local/lib/python3.7/dist-packages (from es_core_news_sm==2.2.5) (2.2.4)\n",
            "Requirement already satisfied: thinc==7.4.0 in /usr/local/lib/python3.7/dist-packages (from spacy>=2.2.2->es_core_news_sm==2.2.5) (7.4.0)\n",
            "Requirement already satisfied: plac<1.2.0,>=0.9.6 in /usr/local/lib/python3.7/dist-packages (from spacy>=2.2.2->es_core_news_sm==2.2.5) (1.1.3)\n",
            "Requirement already satisfied: catalogue<1.1.0,>=0.0.7 in /usr/local/lib/python3.7/dist-packages (from spacy>=2.2.2->es_core_news_sm==2.2.5) (1.0.0)\n",
            "Requirement already satisfied: cymem<2.1.0,>=2.0.2 in /usr/local/lib/python3.7/dist-packages (from spacy>=2.2.2->es_core_news_sm==2.2.5) (2.0.5)\n",
            "Requirement already satisfied: blis<0.5.0,>=0.4.0 in /usr/local/lib/python3.7/dist-packages (from spacy>=2.2.2->es_core_news_sm==2.2.5) (0.4.1)\n",
            "Requirement already satisfied: setuptools in /usr/local/lib/python3.7/dist-packages (from spacy>=2.2.2->es_core_news_sm==2.2.5) (57.4.0)\n",
            "Requirement already satisfied: wasabi<1.1.0,>=0.4.0 in /usr/local/lib/python3.7/dist-packages (from spacy>=2.2.2->es_core_news_sm==2.2.5) (0.8.2)\n",
            "Requirement already satisfied: srsly<1.1.0,>=1.0.2 in /usr/local/lib/python3.7/dist-packages (from spacy>=2.2.2->es_core_news_sm==2.2.5) (1.0.5)\n",
            "Requirement already satisfied: tqdm<5.0.0,>=4.38.0 in /usr/local/lib/python3.7/dist-packages (from spacy>=2.2.2->es_core_news_sm==2.2.5) (4.62.0)\n",
            "Requirement already satisfied: numpy>=1.15.0 in /usr/local/lib/python3.7/dist-packages (from spacy>=2.2.2->es_core_news_sm==2.2.5) (1.19.5)\n",
            "Requirement already satisfied: preshed<3.1.0,>=3.0.2 in /usr/local/lib/python3.7/dist-packages (from spacy>=2.2.2->es_core_news_sm==2.2.5) (3.0.5)\n",
            "Requirement already satisfied: requests<3.0.0,>=2.13.0 in /usr/local/lib/python3.7/dist-packages (from spacy>=2.2.2->es_core_news_sm==2.2.5) (2.23.0)\n",
            "Requirement already satisfied: murmurhash<1.1.0,>=0.28.0 in /usr/local/lib/python3.7/dist-packages (from spacy>=2.2.2->es_core_news_sm==2.2.5) (1.0.5)\n",
            "Requirement already satisfied: importlib-metadata>=0.20 in /usr/local/lib/python3.7/dist-packages (from catalogue<1.1.0,>=0.0.7->spacy>=2.2.2->es_core_news_sm==2.2.5) (4.6.4)\n",
            "Requirement already satisfied: typing-extensions>=3.6.4 in /usr/local/lib/python3.7/dist-packages (from importlib-metadata>=0.20->catalogue<1.1.0,>=0.0.7->spacy>=2.2.2->es_core_news_sm==2.2.5) (3.7.4.3)\n",
            "Requirement already satisfied: zipp>=0.5 in /usr/local/lib/python3.7/dist-packages (from importlib-metadata>=0.20->catalogue<1.1.0,>=0.0.7->spacy>=2.2.2->es_core_news_sm==2.2.5) (3.5.0)\n",
            "Requirement already satisfied: certifi>=2017.4.17 in /usr/local/lib/python3.7/dist-packages (from requests<3.0.0,>=2.13.0->spacy>=2.2.2->es_core_news_sm==2.2.5) (2021.5.30)\n",
            "Requirement already satisfied: idna<3,>=2.5 in /usr/local/lib/python3.7/dist-packages (from requests<3.0.0,>=2.13.0->spacy>=2.2.2->es_core_news_sm==2.2.5) (2.10)\n",
            "Requirement already satisfied: urllib3!=1.25.0,!=1.25.1,<1.26,>=1.21.1 in /usr/local/lib/python3.7/dist-packages (from requests<3.0.0,>=2.13.0->spacy>=2.2.2->es_core_news_sm==2.2.5) (1.24.3)\n",
            "Requirement already satisfied: chardet<4,>=3.0.2 in /usr/local/lib/python3.7/dist-packages (from requests<3.0.0,>=2.13.0->spacy>=2.2.2->es_core_news_sm==2.2.5) (3.0.4)\n",
            "Building wheels for collected packages: es-core-news-sm\n",
            "  Building wheel for es-core-news-sm (setup.py) ... \u001b[?25l\u001b[?25hdone\n",
            "  Created wheel for es-core-news-sm: filename=es_core_news_sm-2.2.5-py3-none-any.whl size=16172933 sha256=b0afcfa3615658a64614f35b388bf627ae757068d3e51d3c062ee4943f6c5911\n",
            "  Stored in directory: /tmp/pip-ephem-wheel-cache-funucym9/wheels/21/8d/a9/6c1a2809c55dd22cd9644ae503a52ba6206b04aa57ba83a3d8\n",
            "Successfully built es-core-news-sm\n",
            "Installing collected packages: es-core-news-sm\n",
            "Successfully installed es-core-news-sm-2.2.5\n",
            "\u001b[38;5;2m✔ Download and installation successful\u001b[0m\n",
            "You can now load the model via spacy.load('es_core_news_sm')\n"
          ],
          "name": "stdout"
        }
      ]
    },
    {
      "cell_type": "code",
      "metadata": {
        "id": "zeHjLPDcJ2Jc"
      },
      "source": [
        "import pandas as pd\n",
        "import re\n",
        "import spacy\n",
        "from spacy.lang.es.examples import sentences\n",
        "import itertools"
      ],
      "execution_count": null,
      "outputs": []
    },
    {
      "cell_type": "code",
      "metadata": {
        "colab": {
          "base_uri": "https://localhost:8080/"
        },
        "id": "YMavgRjLJ62C",
        "outputId": "7a4102bb-0d0d-4256-b6b3-9294da0ab348"
      },
      "source": [
        "# montar el google drive\n",
        "from google.colab import drive\n",
        "drive.mount('/content/drive')"
      ],
      "execution_count": null,
      "outputs": [
        {
          "output_type": "stream",
          "text": [
            "Mounted at /content/drive\n"
          ],
          "name": "stdout"
        }
      ]
    },
    {
      "cell_type": "code",
      "metadata": {
        "colab": {
          "base_uri": "https://localhost:8080/"
        },
        "id": "hNgpCNKnKSwm",
        "outputId": "473226a9-d845-4d83-ae92-09862ae17998"
      },
      "source": [
        "# Creación de una copia del archivo en drive. Path para leerlo\n",
        "file = pd.read_csv('drive/My Drive/Copia de JusticIA_DatosTranscripciones.csv')\n",
        "file.columns"
      ],
      "execution_count": null,
      "outputs": [
        {
          "output_type": "execute_result",
          "data": {
            "text/plain": [
              "Index(['Fuente', 'Conjunto', 'NombreArchivo', 'Texto', 'MetodoTexto'], dtype='object')"
            ]
          },
          "metadata": {},
          "execution_count": 4
        }
      ]
    },
    {
      "cell_type": "code",
      "metadata": {
        "id": "96B80jCfKtEr"
      },
      "source": [
        "# filtrar a trasncripcion manual\n",
        "file_manual = file[file.MetodoTexto == 'manual']"
      ],
      "execution_count": null,
      "outputs": []
    },
    {
      "cell_type": "code",
      "metadata": {
        "colab": {
          "base_uri": "https://localhost:8080/",
          "height": 86
        },
        "id": "twxC2Be4L-mK",
        "outputId": "c47482d8-67d8-4eea-ef60-871745d2abbc"
      },
      "source": [
        "# sacar una ficha para pruebas\n",
        "texto_0 = file_manual.Texto[4]\n",
        "texto_0"
      ],
      "execution_count": null,
      "outputs": [
        {
          "output_type": "execute_result",
          "data": {
            "application/vnd.google.colaboratory.intrinsic+json": {
              "type": "string"
            },
            "text/plain": [
              "'BIGOTES, El. Exp.100-10-16-4-72\\nH-195 L-2\\n10-Feb-72.-Seudónimo de un elemento que MIGUEL\\nDUARTE LOPEZ (Fuerzas Armadas de la Nueva Revo-\\nlución), trajo al D.F., después de que en Sono-\\nra efectuó la -expropiación- a un Banco, en la\\ncual obtuvieron $9,000.00.- LE acompañaban EL\\nPATILLAS y EL CEJAS.-\\nFol. 198.- En 1969 estos elementos eran de un\\ngrupo revolucionario en Monterrey .-\\nExp. 11-234-73.\\nH-13 L-1.\\n15-Jun-73.- El 14 del actual en el interroga-\\ntorio efectuado a JUSTINO VILLEGAS ZUÑIGA, --'"
            ]
          },
          "metadata": {},
          "execution_count": 6
        }
      ]
    },
    {
      "cell_type": "code",
      "metadata": {
        "id": "gvDBcZTSMLA_"
      },
      "source": [
        "# importar el spacy en español, regresa doc que es tiene la lista de palabras y su clasificacion\n",
        "import es_core_news_sm\n",
        "nlp = es_core_news_sm.load()\n",
        "doc = nlp(texto_0)\n"
      ],
      "execution_count": null,
      "outputs": []
    },
    {
      "cell_type": "code",
      "metadata": {
        "colab": {
          "base_uri": "https://localhost:8080/"
        },
        "id": "yYhFw-G6bG3A",
        "outputId": "8bb46687-6972-4e6e-c7d8-3fbd60e5b3b5"
      },
      "source": [
        "# asi obtienes la clasificacion de las palabras\n",
        "for tok in doc:\n",
        "    print(tok, tok.pos_)"
      ],
      "execution_count": null,
      "outputs": [
        {
          "output_type": "stream",
          "text": [
            "BIGOTES PROPN\n",
            ", PUNCT\n",
            "El DET\n",
            ". PUNCT\n",
            "Exp.100 NOUN\n",
            "- PUNCT\n",
            "10 NUM\n",
            "- PUNCT\n",
            "16 NUM\n",
            "- PUNCT\n",
            "4 NUM\n",
            "- PUNCT\n",
            "72 NUM\n",
            "\n",
            " SPACE\n",
            "H-195 PROPN\n",
            "L-2 NUM\n",
            "\n",
            " SPACE\n",
            "10-Feb-72.-Seudónimo NUM\n",
            "de ADP\n",
            "un DET\n",
            "elemento NOUN\n",
            "que PRON\n",
            "MIGUEL PROPN\n",
            "\n",
            " SPACE\n",
            "DUARTE PROPN\n",
            "LOPEZ PROPN\n",
            "( PUNCT\n",
            "Fuerzas PROPN\n",
            "Armadas PROPN\n",
            "de ADP\n",
            "la DET\n",
            "Nueva PROPN\n",
            "Revo- PROPN\n",
            "\n",
            " SPACE\n",
            "lución PROPN\n",
            ") PUNCT\n",
            ", PUNCT\n",
            "trajo VERB\n",
            "al ADP\n",
            "D.F. PROPN\n",
            ", PUNCT\n",
            "después ADV\n",
            "de ADP\n",
            "que SCONJ\n",
            "en ADP\n",
            "Sono- PROPN\n",
            "\n",
            " SPACE\n",
            "ra PROPN\n",
            "efectuó VERB\n",
            "la PRON\n",
            "-expropiación- VERB\n",
            "a ADP\n",
            "un DET\n",
            "Banco PROPN\n",
            ", PUNCT\n",
            "en ADP\n",
            "la DET\n",
            "\n",
            " SPACE\n",
            "cual PRON\n",
            "obtuvieron VERB\n",
            "$ NUM\n",
            "9,000.00.- NOUN\n",
            "LE PROPN\n",
            "acompañaban VERB\n",
            "EL DET\n",
            "\n",
            " SPACE\n",
            "PATILLAS PROPN\n",
            "y CONJ\n",
            "EL DET\n",
            "CEJAS.- PROPN\n",
            "\n",
            " SPACE\n",
            "Fol PROPN\n",
            ". PUNCT\n",
            "198.- NUM\n",
            "En ADP\n",
            "1969 NOUN\n",
            "estos DET\n",
            "elementos NOUN\n",
            "eran AUX\n",
            "de ADP\n",
            "un DET\n",
            "\n",
            " SPACE\n",
            "grupo NOUN\n",
            "revolucionario ADJ\n",
            "en ADP\n",
            "Monterrey PROPN\n",
            ".- PUNCT\n",
            "\n",
            " SPACE\n",
            "Exp PROPN\n",
            ". PUNCT\n",
            "11 NUM\n",
            "- PUNCT\n",
            "234 NUM\n",
            "- PUNCT\n",
            "73 NUM\n",
            ". PUNCT\n",
            "\n",
            " SPACE\n",
            "H-13 PROPN\n",
            "L-1 PROPN\n",
            ". PUNCT\n",
            "\n",
            " SPACE\n",
            "15-Jun-73.- NUM\n",
            "El DET\n",
            "14 NUM\n",
            "del ADP\n",
            "actual ADJ\n",
            "en ADP\n",
            "el DET\n",
            "interroga- PROPN\n",
            "\n",
            " SPACE\n",
            "torio ADJ\n",
            "efectuado ADJ\n",
            "a ADP\n",
            "JUSTINO PROPN\n",
            "VILLEGAS PROPN\n",
            "ZUÑIGA PROPN\n",
            ", PUNCT\n",
            "-- PUNCT\n"
          ],
          "name": "stdout"
        }
      ]
    },
    {
      "cell_type": "markdown",
      "metadata": {
        "id": "H1uVLuxUNBuu"
      },
      "source": [
        "\n",
        "\n",
        "> Función para obtener nombres propios \n",
        "\n"
      ]
    },
    {
      "cell_type": "code",
      "metadata": {
        "id": "X-_3GbRkTZdB"
      },
      "source": [
        "# Función para obtener nombres propios\n",
        "\n",
        "def extract_proper_nouns(doc):\n",
        "    pos = [tok.i for tok in doc if tok.pos_ == \"PROPN\"]\n",
        "    consecutives = []\n",
        "    current = []\n",
        "    for elt in pos:\n",
        "        if len(current) == 0:\n",
        "            current.append(elt)\n",
        "        else:\n",
        "            if current[-1] == elt - 1:\n",
        "                current.append(elt)\n",
        "            else:\n",
        "                consecutives.append(current)\n",
        "                current = [elt]\n",
        "    if len(current) != 0:\n",
        "        consecutives.append(current)\n",
        "    return [doc[consecutive[0]:consecutive[-1]+1] for consecutive in consecutives]"
      ],
      "execution_count": null,
      "outputs": []
    },
    {
      "cell_type": "code",
      "metadata": {
        "id": "o43_4p0AnGeQ"
      },
      "source": [
        "def quitar_saltos(text):\n",
        "  text = text.replace('-\\n', '')\n",
        "  text = text.replace('\\n', ' ')\n",
        "  text = text.replace('-', '')\n",
        "  text = text.replace('(', '.')\n",
        "  text = text.replace(')', '.')\n",
        "  return text"
      ],
      "execution_count": null,
      "outputs": []
    },
    {
      "cell_type": "code",
      "metadata": {
        "colab": {
          "base_uri": "https://localhost:8080/",
          "height": 86
        },
        "id": "5XlbJLotj_MF",
        "outputId": "6f61fe99-a43d-4097-d5d3-232c20020b84"
      },
      "source": [
        "quitar_saltos(texto_0)"
      ],
      "execution_count": null,
      "outputs": [
        {
          "output_type": "execute_result",
          "data": {
            "application/vnd.google.colaboratory.intrinsic+json": {
              "type": "string"
            },
            "text/plain": [
              "'BIGOTES, El. Exp.1001016472 H195 L2 10Feb72.Seudónimo de un elemento que MIGUEL DUARTE LOPEZ .Fuerzas Armadas de la Nueva Revolución., trajo al D.F., después de que en Sonora efectuó la expropiación a un Banco, en la cual obtuvieron $9,000.00. LE acompañaban EL PATILLAS y EL CEJAS.Fol. 198. En 1969 estos elementos eran de un grupo revolucionario en Monterrey .Exp. 1123473. H13 L1. 15Jun73. El 14 del actual en el interrogatorio efectuado a JUSTINO VILLEGAS ZUÑIGA, '"
            ]
          },
          "metadata": {},
          "execution_count": 11
        }
      ]
    },
    {
      "cell_type": "code",
      "metadata": {
        "id": "xYIUDOAWTauy"
      },
      "source": [
        "def nombres_propios(text):\n",
        "  text = quitar_saltos(text)\n",
        "  doc = nlp(text)\n",
        "  nombres = extract_proper_nouns(doc)\n",
        "  return nombres"
      ],
      "execution_count": null,
      "outputs": []
    },
    {
      "cell_type": "code",
      "metadata": {
        "id": "CUaTmziLwROI"
      },
      "source": [
        "def separar_mayusculas(texto):\n",
        "  palabras_candidato = []\n",
        "  nueva_palabra = 0\n",
        "  nombre = ''\n",
        "  palabras_conexion = ['de', 'de la']\n",
        "  for word in texto.split():\n",
        "    if not(word.islower()) or (nueva_palabra !=0 and word == 'de'):\n",
        "      nueva_palabra = nueva_palabra +1\n",
        "      if nueva_palabra != 0:\n",
        "        nombre = nombre + ' ' + word\n",
        "    else:\n",
        "      if nombre != '' and re.search('[a-zA-Z]', nombre):\n",
        "        #print(nombre)\n",
        "        palabras_candidato.append(nombre[1:])\n",
        "      nueva_palabra = 0\n",
        "      nombre = ''\n",
        "  palabras_candidato = [x.split('.',1)[0] for x in palabras_candidato]\n",
        "  return palabras_candidato"
      ],
      "execution_count": null,
      "outputs": []
    },
    {
      "cell_type": "code",
      "metadata": {
        "id": "xJrR7DOu6DNU"
      },
      "source": [
        "def extraer_nombres_mano(text):\n",
        "  text = quitar_saltos(text)\n",
        "  lista_nombre = separar_mayusculas(text)\n",
        "  lista_nombre = [x for x in lista_nombre if not re.search('Exp', x)]\n",
        "  return lista_nombre"
      ],
      "execution_count": null,
      "outputs": []
    },
    {
      "cell_type": "code",
      "metadata": {
        "colab": {
          "base_uri": "https://localhost:8080/",
          "height": 86
        },
        "id": "liZFV3v53uI3",
        "outputId": "0f8f6803-86b3-4752-e86d-35516d272285"
      },
      "source": [
        "file_manual.Texto[4]"
      ],
      "execution_count": null,
      "outputs": [
        {
          "output_type": "execute_result",
          "data": {
            "application/vnd.google.colaboratory.intrinsic+json": {
              "type": "string"
            },
            "text/plain": [
              "'BIGOTES, El. Exp.100-10-16-4-72\\nH-195 L-2\\n10-Feb-72.-Seudónimo de un elemento que MIGUEL\\nDUARTE LOPEZ (Fuerzas Armadas de la Nueva Revo-\\nlución), trajo al D.F., después de que en Sono-\\nra efectuó la -expropiación- a un Banco, en la\\ncual obtuvieron $9,000.00.- LE acompañaban EL\\nPATILLAS y EL CEJAS.-\\nFol. 198.- En 1969 estos elementos eran de un\\ngrupo revolucionario en Monterrey .-\\nExp. 11-234-73.\\nH-13 L-1.\\n15-Jun-73.- El 14 del actual en el interroga-\\ntorio efectuado a JUSTINO VILLEGAS ZUÑIGA, --'"
            ]
          },
          "metadata": {},
          "execution_count": 15
        }
      ]
    },
    {
      "cell_type": "code",
      "metadata": {
        "colab": {
          "base_uri": "https://localhost:8080/",
          "height": 86
        },
        "id": "WMs0ZRyW0mEh",
        "outputId": "ae9aba33-cb68-4b63-8afe-c1dda69f5825"
      },
      "source": [
        "quitar_saltos(file_manual.Texto[2])"
      ],
      "execution_count": null,
      "outputs": [
        {
          "output_type": "execute_result",
          "data": {
            "application/vnd.google.colaboratory.intrinsic+json": {
              "type": "string"
            },
            "text/plain": [
              "'GUEL ALEMAN, EMILIO AZCARRAGA ulotro personaje. Exp.10010162 H200 L6. 11Abril72. En un recado enviado por HILARIO ADAME HERNANDEZ hijo de este elemento a LEOVIGILDO PINZON TOLENTINO, menciona que este elemento fué muerto. Exp1001016272 H200L6. 11Abr72. En un recado enviado por HILARIO ADA ME HERNANDEZ hijo de éste elemento a LEOVIGILDO PINZON TOLENTINO menciona que éste elemento   . fue muerto. Exp.1001016472 H237 L6 2Oct72. SUS HIJOS: HILARIO y PASCUAL son miem bros permanentes del grupo de LUCIO CABAÑAS.'"
            ]
          },
          "metadata": {},
          "execution_count": 16
        }
      ]
    },
    {
      "cell_type": "code",
      "metadata": {
        "id": "72EikJCHraSA"
      },
      "source": [
        "def siglas(text):\n",
        "  pattern3='(?:(?<=\\.|\\s)[A-Z]\\.)+'\n",
        "  return re.search(pattern3, text)"
      ],
      "execution_count": null,
      "outputs": []
    },
    {
      "cell_type": "code",
      "metadata": {
        "id": "rBTb0_47t_5h"
      },
      "source": [
        "def buscar_h_l(text):\n",
        "  pattern_h=r'([H][0-9])'\n",
        "  pattern_l=r'([L][0-9])'\n",
        "  return re.search(pattern_h, text) and re.search(pattern_l, text)"
      ],
      "execution_count": null,
      "outputs": []
    },
    {
      "cell_type": "code",
      "metadata": {
        "id": "0bvuaoABvTSe"
      },
      "source": [
        "buscar_h_l('Juan')"
      ],
      "execution_count": null,
      "outputs": []
    },
    {
      "cell_type": "code",
      "metadata": {
        "id": "7nzsYbAmdqlY"
      },
      "source": [
        "def separar_nombres(text):\n",
        "  palabras_separadas = quitar_saltos(text).split()\n",
        "  palabras_separadas = [x.replace('Y', 'y') if len(x) == 1 else x for x in palabras_separadas]\n",
        "  palabras_separadas = [x.replace('Exp', 'exp') for x in palabras_separadas]\n",
        "  palabras_candidato = []\n",
        "  nueva_palabra = 0\n",
        "  nombre = ''\n",
        "  #palabras_conexion = ['de', 'de la']\n",
        "  for word in palabras_separadas:\n",
        "    if not(word.islower()) or (nueva_palabra !=0 and word == 'de') or (nueva_palabra !=0 and word == 'la' and nombre.split()[-1] == 'de'):\n",
        "      nueva_palabra = nueva_palabra +1\n",
        "      if nueva_palabra != 0:\n",
        "        nombre = nombre + ' ' + word\n",
        "    else:\n",
        "      if nombre != '' and re.search('[a-zA-Z]', nombre):\n",
        "        #print(nombre)\n",
        "        palabras_candidato.append(nombre[1:])\n",
        "      nueva_palabra = 0\n",
        "      nombre = ''\n",
        "  if len(word) > 0:\n",
        "    palabras_candidato.append(nombre[1:])\n",
        "  #palabras_candidato = [word for line in palabras_candidato for word in line.split('.')]\n",
        "  #palabras_candidato = [x.split('.',1)[0] for x in palabras_candidato]\n",
        "  return palabras_candidato"
      ],
      "execution_count": null,
      "outputs": []
    },
    {
      "cell_type": "code",
      "metadata": {
        "id": "pL--we8yg_V1"
      },
      "source": [
        "palabras = separar_nombres(file_manual.Texto[8])"
      ],
      "execution_count": null,
      "outputs": []
    },
    {
      "cell_type": "code",
      "metadata": {
        "id": "08sagN4mCGIt"
      },
      "source": [
        "def limpiar_lista(lista_nombres):\n",
        "  palabras_sin_folio = [nombre for nombre in lista_nombres if buscar_h_l(nombre) is None]\n",
        "  separado = [nombre.split('.') if siglas(nombre) is None else nombre for nombre in palabras_sin_folio]\n",
        "  separado = [palabra if isinstance(lista, list) else lista for lista in separado for palabra in lista]\n",
        "  separado = [nombre for nombre in separado if re.search('[a-zA-Z]', nombre)]\n",
        "  separado = [nombre for nombre in separado if not re.search('[0-9]', nombre)]\n",
        "  separado = [nombre.strip() for nombre in separado]\n",
        "  separado = list(dict.fromkeys(separado))\n",
        "  #separado.remove('Fol')\n",
        "  return separado\n"
      ],
      "execution_count": null,
      "outputs": []
    },
    {
      "cell_type": "code",
      "metadata": {
        "colab": {
          "base_uri": "https://localhost:8080/"
        },
        "id": "lToZfCkrD2mc",
        "outputId": "bfd27a11-0468-4d45-e3ab-497d4da0edf1"
      },
      "source": [
        "limpiar_lista(palabras)"
      ],
      "execution_count": null,
      "outputs": [
        {
          "output_type": "execute_result",
          "data": {
            "text/plain": [
              "['FLORES BELLO,', 'NORBERTO RAMIREZ,', 'SALVADOR', 'NORBERTO', 'RAMIRO']"
            ]
          },
          "metadata": {},
          "execution_count": 23
        }
      ]
    },
    {
      "cell_type": "code",
      "metadata": {
        "id": "4sUa7oYgE5DM"
      },
      "source": [
        "def extraer_nombres(texto):\n",
        "  nombres = separar_nombres(texto)\n",
        "  lista_limpia = limpiar_lista(nombres)\n",
        "  return lista_limpia"
      ],
      "execution_count": null,
      "outputs": []
    },
    {
      "cell_type": "code",
      "metadata": {
        "colab": {
          "base_uri": "https://localhost:8080/"
        },
        "id": "L6nWddi3FGw4",
        "outputId": "9c125b55-28e0-4c19-8914-60ca4b319513"
      },
      "source": [
        "extraer_nombres(file_manual.Texto[8])"
      ],
      "execution_count": null,
      "outputs": [
        {
          "output_type": "execute_result",
          "data": {
            "text/plain": [
              "['FLORES BELLO,', 'NORBERTO RAMIREZ,', 'SALVADOR', 'NORBERTO', 'RAMIRO']"
            ]
          },
          "metadata": {},
          "execution_count": 25
        }
      ]
    },
    {
      "cell_type": "code",
      "metadata": {
        "colab": {
          "base_uri": "https://localhost:8080/"
        },
        "id": "ClMTXW6wejrh",
        "outputId": "62475158-7930-4370-90f3-df1a2c55e0a2"
      },
      "source": [
        "from tqdm import tqdm\n",
        "nombres = []\n",
        "for ficha in tqdm(file_manual.Texto):\n",
        "  nombres.append(extraer_nombres(ficha))"
      ],
      "execution_count": null,
      "outputs": [
        {
          "output_type": "stream",
          "text": [
            "100%|██████████| 1000/1000 [00:00<00:00, 3768.15it/s]\n"
          ],
          "name": "stderr"
        }
      ]
    },
    {
      "cell_type": "code",
      "metadata": {
        "colab": {
          "base_uri": "https://localhost:8080/"
        },
        "id": "yI6AXoI2fIPg",
        "outputId": "94242331-3079-4dc8-f9af-f767b627910e"
      },
      "source": [
        "file_manual['nombres'] = file_manual.Texto.apply(extraer_nombres, 1)"
      ],
      "execution_count": null,
      "outputs": [
        {
          "output_type": "stream",
          "text": [
            "/usr/local/lib/python3.7/dist-packages/ipykernel_launcher.py:1: SettingWithCopyWarning: \n",
            "A value is trying to be set on a copy of a slice from a DataFrame.\n",
            "Try using .loc[row_indexer,col_indexer] = value instead\n",
            "\n",
            "See the caveats in the documentation: https://pandas.pydata.org/pandas-docs/stable/user_guide/indexing.html#returning-a-view-versus-a-copy\n",
            "  \"\"\"Entry point for launching an IPython kernel.\n"
          ],
          "name": "stderr"
        }
      ]
    },
    {
      "cell_type": "code",
      "metadata": {
        "colab": {
          "base_uri": "https://localhost:8080/"
        },
        "id": "9Yd6S3zgDS3K",
        "outputId": "f09c8a90-4849-47a3-fc81-1456db4543c4"
      },
      "source": [
        "file_manual['nombres']"
      ],
      "execution_count": null,
      "outputs": [
        {
          "output_type": "execute_result",
          "data": {
            "text/plain": [
              "0      [ADAME FLORE Samuél, Atoyac de Alvarez Gro, Pa...\n",
              "1      [ADAME FLORES Samuél, CLISERIO DE JESUS ARGUE ...\n",
              "2      [GUEL ALEMAN, EMILIO AZCARRAGA, HILARIO ADAME ...\n",
              "3      [GALLARDO MORENO, Juan, Cárcel, ESPERANZA OLIV...\n",
              "4      [BIGOTES, El, MIGUEL DUARTE LOPEZ, Fuerzas Arm...\n",
              "                             ...                        \n",
              "995    [TORIBIO PERALTA, CRESCENCIO REYES, MARGARITO ...\n",
              "996    [Julian Taia Martínez,, Esta, Ejto, pertenecie...\n",
              "997    [ZONA MILITAR, Columnas, RODOLFO MOLINA MARTIN...\n",
              "998    [Zihuatanejo,, Ejto, detienen, suversivos, El,...\n",
              "999    [Puesto, Estado Mayor de, Zona,, Ranchería de ...\n",
              "Name: nombres, Length: 1000, dtype: object"
            ]
          },
          "metadata": {},
          "execution_count": 28
        }
      ]
    },
    {
      "cell_type": "code",
      "metadata": {
        "colab": {
          "base_uri": "https://localhost:8080/"
        },
        "id": "sHLUg-b6f6G0",
        "outputId": "b5e53cc4-e822-4b16-9349-5aa34b1a32e5"
      },
      "source": [
        "file_manual.nombres[17]"
      ],
      "execution_count": null,
      "outputs": [
        {
          "output_type": "execute_result",
          "data": {
            "text/plain": [
              "['MOTA GONZALEZ Jorge',\n",
              " 'Atoyac deAlvarez,',\n",
              " 'Edo',\n",
              " 'GENARO',\n",
              " 'CONCEPCION SOLIS',\n",
              " 'Profesora Normalista,',\n",
              " 'Elemento',\n",
              " 'Profesor',\n",
              " 'Esc',\n",
              " 'Primaria Rep',\n",
              " 'deVenezuela,',\n",
              " 'Col',\n",
              " 'Granjas México,para']"
            ]
          },
          "metadata": {},
          "execution_count": 29
        }
      ]
    },
    {
      "cell_type": "code",
      "metadata": {
        "colab": {
          "base_uri": "https://localhost:8080/",
          "height": 120
        },
        "id": "uqr-SpfNgzle",
        "outputId": "481bef4a-6eb1-43a8-c777-c9f61a2af3ca"
      },
      "source": [
        "file_manual.Texto[17]"
      ],
      "execution_count": null,
      "outputs": [
        {
          "output_type": "execute_result",
          "data": {
            "application/vnd.google.colaboratory.intrinsic+json": {
              "type": "string"
            },
            "text/plain": [
              "'MOTA GONZALEZ Jorge. Exp-100-16-2-72.\\n7 H-169 L-5\\ndos ocasiones lo acompañó a la población de -\\nAtoyac deAlvarez, porque a uél era representante\\ndelos cafeticultores, pero solo en calidad de\\namigo, más bien con el afán de conocer dicho Edo.\\npero ya en el año de 1986, por la pensa se enter\\nde que GENARO había escapado de laprisión en el\\nmes de abril de ese mismo año y unos dos meses más tarde su cuñada CONCEPCION SOLIS que igual\\nmente es Profesora Normalista, se entrevistó con\\neste Elemento o que por ese entonces trabajaba como\\nProfesor en la Esc.Primaria Rep.deVenezuela, ubi\\ncada en la Col.Granjas México,para solicitar de\\nél llevara a GENARO la canti dad de dos mil pe'"
            ]
          },
          "metadata": {},
          "execution_count": 30
        }
      ]
    },
    {
      "cell_type": "code",
      "metadata": {
        "id": "ck97ljMnmFVq"
      },
      "source": [
        "todos_nombres = [nombre for lista_nombre in file_manual.nombres for nombre in lista_nombre]"
      ],
      "execution_count": null,
      "outputs": []
    },
    {
      "cell_type": "code",
      "metadata": {
        "id": "poB1EDYsrwLE"
      },
      "source": [
        "def contar_mayus(name):\n",
        "  count=0\n",
        "  for i in name:\n",
        "      if i.isupper():\n",
        "          count=count+1\n",
        "  return count"
      ],
      "execution_count": null,
      "outputs": []
    },
    {
      "cell_type": "code",
      "metadata": {
        "id": "ls3pHGrhq6_0"
      },
      "source": [
        "nombres_2_mayus = [nombre for nombre in todos_nombres if contar_mayus(nombre)> 1]"
      ],
      "execution_count": null,
      "outputs": []
    },
    {
      "cell_type": "code",
      "metadata": {
        "colab": {
          "base_uri": "https://localhost:8080/"
        },
        "id": "MlHdqVoQonOl",
        "outputId": "5ffb8a04-d783-44fd-d2fd-a3a468a61aed"
      },
      "source": [
        "my_dict = {i:nombres_2_mayus.count(i) for i in nombres_2_mayus}\n",
        "dict(sorted(my_dict.items(), key=lambda x: x[1], reverse = True))"
      ],
      "execution_count": null,
      "outputs": [
        {
          "output_type": "execute_result",
          "data": {
            "text/plain": [
              "{'UNIVERSIDAD AUTONOMA DE GUERRERO': 37,\n",
              " 'Acapulco, Gro': 29,\n",
              " 'UAG': 29,\n",
              " 'UNIVERSIDAD AUTONOMA DE': 26,\n",
              " 'U.A.G.,': 26,\n",
              " 'D.F.': 22,\n",
              " 'WENCES REZA': 22,\n",
              " 'Chilpancingo, Gro': 18,\n",
              " 'D.F.,': 16,\n",
              " 'LUCIO CABAÑAS BARRIENTOS': 15,\n",
              " 'PRI': 15,\n",
              " 'Consejo Univ': 15,\n",
              " 'LUCIO CABAÑAS': 14,\n",
              " 'U.A.G.': 14,\n",
              " 'BRIGADA CAMPESINA DE AJUSTICIAMIENTO': 13,\n",
              " 'Lucio Cabañas Barrientos': 13,\n",
              " 'Acapulco Gro': 13,\n",
              " 'Consejo Universitario': 12,\n",
              " 'P.C.M.,': 11,\n",
              " 'P.C.M.': 11,\n",
              " 'P.R.I.': 10,\n",
              " 'MA': 10,\n",
              " 'Acapulco,Gro': 10,\n",
              " 'ALFONSO CISNEROS LOPEZ': 10,\n",
              " 'Casa de Estudios': 10,\n",
              " 'Iguala, Gro': 9,\n",
              " 'CARMELO CORTES CASTRO': 9,\n",
              " 'Chilpancingo Gro': 9,\n",
              " 'UAG,': 9,\n",
              " 'Prepa No': 9,\n",
              " 'SALAS OBREGON, Ignacio Arturo': 9,\n",
              " 'UNIVERSIDAD AUT': 9,\n",
              " 'Preparatoria No': 8,\n",
              " 'PCM': 7,\n",
              " 'RUBEN FIGUEROA FIGUEROA,': 7,\n",
              " 'El Prof': 7,\n",
              " 'Puerto de Acapulco, Gro': 7,\n",
              " 'El Lic': 7,\n",
              " 'Gobierno Federal': 7,\n",
              " 'LIC': 7,\n",
              " 'Chilpancingo,Gro': 7,\n",
              " 'DE GUERRERO': 6,\n",
              " 'Puerto de Acapulco,': 6,\n",
              " 'LUCIO CABAÑAS BARRIENTOS,': 6,\n",
              " 'Brigada Campesina de Ajusticiamiento': 6,\n",
              " 'Atoyac de Alvarez, Gro': 6,\n",
              " 'COMITE Prodefensa de': 6,\n",
              " 'PABLO ALVARADO BARRERA': 6,\n",
              " 'Mandatario Estatal': 6,\n",
              " 'FOLIO': 6,\n",
              " 'POLICIA EN EL ESTADO DE': 6,\n",
              " 'Rector Dr': 6,\n",
              " 'U.A.G.,se': 6,\n",
              " 'UNIVERSIDAD AUTONOMA': 6,\n",
              " 'SEP': 6,\n",
              " 'GENARO VAZQUEZ ROJAS': 5,\n",
              " 'GENARO': 5,\n",
              " 'ASOCIACION CIVICA GUERRERENSE': 5,\n",
              " 'DR': 5,\n",
              " 'RAUL': 5,\n",
              " 'Costa Grande de Guerrero,': 5,\n",
              " 'EFRAIN BERMUDEZ RIVERA': 5,\n",
              " 'Estado de Guerrero,': 5,\n",
              " 'PABLO SANDOVAL RAMIREZ': 5,\n",
              " 'ALANIS FUENTES, Agustín': 5,\n",
              " 'Policía Jud': 5,\n",
              " 'FIGUEROA FIGUEROA': 5,\n",
              " 'Gobierno Estatal': 5,\n",
              " 'LEOS': 5,\n",
              " 'ROMO': 5,\n",
              " 'Policía Preventiva': 5,\n",
              " 'ROSALIO WENCES REZA': 5,\n",
              " 'Casa de Estudios,': 5,\n",
              " 'STAISUAG': 5,\n",
              " 'GENARO VAZQUEZ': 4,\n",
              " 'PCM,': 4,\n",
              " 'DE LOURDES SANCHEZ ROSALES': 4,\n",
              " 'ALFREDO': 4,\n",
              " 'Chihuahua, Chih': 4,\n",
              " 'De Gro': 4,\n",
              " 'FUERZAS ARMADAS REVOLUCIONARIAS': 4,\n",
              " 'Atoyac de Alvarez': 4,\n",
              " 'LUCIO CABAÑAS,': 4,\n",
              " 'UNAM': 4,\n",
              " 'VICTORIA': 4,\n",
              " 'ELOY CISNEROS GUILLEN': 4,\n",
              " 'CARLOS DIAZ FRIAS': 4,\n",
              " 'DIAZ FRIAS, Carlos': 4,\n",
              " 'CISNEROS GUILLEN': 4,\n",
              " 'Estado de Guerrero': 4,\n",
              " 'Cuernavaca, Mor': 4,\n",
              " 'PROF': 4,\n",
              " 'ABARCA ALARCON Raymundo': 4,\n",
              " 'FIGUEROA FIGUEROA Rubén': 4,\n",
              " 'Comité Eject': 4,\n",
              " 'FIGUEROA FIGUEROA, Rubén': 4,\n",
              " 'Mandatario Estatal,': 4,\n",
              " 'Iguala,Gro': 4,\n",
              " 'Puerto de Acapulco': 4,\n",
              " 'Partido Socialista de': 4,\n",
              " 'Universidad Autónoma de Guerrero,': 4,\n",
              " 'Consejo Universitario,': 4,\n",
              " 'El Rector': 4,\n",
              " 'WENCES REZA,': 4,\n",
              " 'S.T.A.I.S.U.A.G.,': 4,\n",
              " 'FIGUEROA FIGUEROA,': 4,\n",
              " 'USCUAG': 4,\n",
              " 'Gobierno Fed': 4,\n",
              " 'CARLOS': 4,\n",
              " 'Frente Armado': 4,\n",
              " 'VARGAS VIVIANO, Arturo': 4,\n",
              " 'ZONA MILITAR': 4,\n",
              " 'Atoyac de Alvarez Gro': 3,\n",
              " 'PASCUAL': 3,\n",
              " 'LOPEZ AYALA, Raúl': 3,\n",
              " 'M.L.N.': 3,\n",
              " 'Rector de la Univ': 3,\n",
              " 'MOTA GONZALEZ Jorge': 3,\n",
              " 'GENARO DOMINGUEZ MALDONADO': 3,\n",
              " 'Normal Superior': 3,\n",
              " 'JORGE': 3,\n",
              " 'DE LOURDES SANCHEZ': 3,\n",
              " 'JAIME JAIMES HERNANDEZ': 3,\n",
              " 'TELEFONO': 3,\n",
              " 'DF': 3,\n",
              " 'Banco Azteca': 3,\n",
              " 'Lucio Cabañas,': 3,\n",
              " 'CORTES CASTRO Carmelo': 3,\n",
              " 'P.S.T.,': 3,\n",
              " 'PEDRO HELGUERA JIMENEZ': 3,\n",
              " 'Rector de la U.A.G.': 3,\n",
              " 'Ciudad de México,': 3,\n",
              " 'PRT': 3,\n",
              " 'MAR': 3,\n",
              " 'Unión Cívica Guerrerense': 3,\n",
              " 'ALEJANDRO': 3,\n",
              " 'Lucio Cabañas Barrientos,': 3,\n",
              " 'CAPFCE': 3,\n",
              " 'Universidad Autónoma de Guerrero': 3,\n",
              " 'Consejo Uni': 3,\n",
              " 'LUCIO': 3,\n",
              " 'PRT,': 3,\n",
              " 'S.R.A.,': 3,\n",
              " 'AMADA ALVARADO DE MENDEZ': 3,\n",
              " 'MENDOZA GAYTAN David Jesús': 3,\n",
              " 'DFS': 3,\n",
              " 'LAZARO': 3,\n",
              " 'PELIGROSIDAD MAXIMA': 3,\n",
              " 'CISNEROS GUILLEN,': 3,\n",
              " 'Vázquez Rojas,': 3,\n",
              " 'ABARCA ALARCON': 3,\n",
              " 'Comisario Mpal': 3,\n",
              " 'FIGUEROA FIGUEROA, Ruben': 3,\n",
              " 'Verdad de Guerrero': 3,\n",
              " 'Club Noc': 3,\n",
              " 'Ley de Amnistía': 3,\n",
              " 'Fuero Común': 3,\n",
              " 'Estado de Gro': 3,\n",
              " 'S.T.P.R.M.': 3,\n",
              " 'RUBEN FIGUEROA,': 3,\n",
              " 'Rector de la U.A.G.,': 3,\n",
              " 'FOLIO No': 3,\n",
              " 'ACOSTA VIQUEZ': 3,\n",
              " 'de Tixtla,Gro': 3,\n",
              " 'HERNANDEZ DIAZ': 3,\n",
              " 'Movimiento Revolucionario': 3,\n",
              " 'PST': 3,\n",
              " 'D.F.S.,': 3,\n",
              " 'GARCIA Paniagua, JAVIER': 3,\n",
              " 'HERNANDEZ ALCARAZ Horacio': 3,\n",
              " 'Gobernador de Gro': 3,\n",
              " 'PST,': 3,\n",
              " 'LOPEZ BETANCOURT': 3,\n",
              " 'Policía Judicial': 3,\n",
              " 'Gobernador Ing': 3,\n",
              " 'MARTINEZ ADAME Arturo Lic': 3,\n",
              " 'MARTINEZ ADAME Arturo': 3,\n",
              " 'FRENTE UNIVERSITARIO GUERRERENSE': 3,\n",
              " 'Juez Mixto de': 3,\n",
              " 'Rectoría de la U.A.G.': 3,\n",
              " 'POLICIA DEL ESTADO DE GUERRERO': 3,\n",
              " 'Frente de Defensa de': 3,\n",
              " 'Puerto de Acapulco,Gro': 3,\n",
              " 'Iguala Gro': 3,\n",
              " 'Batallón de Inf': 3,\n",
              " 'Brigada Roja,': 3,\n",
              " 'El Dr': 3,\n",
              " 'ROSALIO WENCES REZA,': 3,\n",
              " 'Rectoría de la U.A.G.,': 3,\n",
              " 'UNIVERSIDAD AUTONOMA DEL': 3,\n",
              " 'ROSALIO WENCES REZA, Rector de': 3,\n",
              " 'C.U.,': 3,\n",
              " 'Sindicato de Trabajadores Administrativos': 3,\n",
              " 'STAISUAG,': 3,\n",
              " 'SERVANDO ALANIS SANTOS': 3,\n",
              " 'Unión Campesina Independiente,': 3,\n",
              " 'Salamanca, Gto': 3,\n",
              " 'VICTORIA HERNANDEZ': 3,\n",
              " 'NECOCHEA LOPEZ, Víctor Bruno': 3,\n",
              " 'LEANDRO VELEZ ABARCA': 3,\n",
              " 'ZAMORA GALINDO Camerino': 3,\n",
              " 'Genaro Vázquez Rojas,': 2,\n",
              " 'GALLARDO MORENO, Juan': 2,\n",
              " 'NORBERTO': 2,\n",
              " 'LIDIA AYALA DE LOPEZ': 2,\n",
              " 'CCI,': 2,\n",
              " 'Facultad de Medicina': 2,\n",
              " 'FOTOGRAFIA:': 2,\n",
              " 'Atoyac deAlvarez,': 2,\n",
              " 'CONCEPCION SOLIS': 2,\n",
              " 'IRAIS': 2,\n",
              " 'FEP': 2,\n",
              " 'C.C.I.,': 2,\n",
              " 'CCI': 2,\n",
              " 'ANTONIO ARANDA FLORES': 2,\n",
              " 'MARINA LOPEZ MEDINA': 2,\n",
              " 'TELLEZ PACHECO Enrique': 2,\n",
              " 'COMANDO ARMADO DEL PUEBLO': 2,\n",
              " 'GREGORIO': 2,\n",
              " 'JAIMES HERNANDEZ Florentino': 2,\n",
              " 'VAZQUEZ ROJAS': 2,\n",
              " 'CABAÑAS BARRIENTOS': 2,\n",
              " 'JAIME CASTREJON DIEZ': 2,\n",
              " 'ARTURO MIRANDA RAMIREZ': 2,\n",
              " 'Pol Jud': 2,\n",
              " 'La Profra': 2,\n",
              " 'CESAR ESPINOBARROS': 2,\n",
              " 'RAMIREZ Dr': 2,\n",
              " 'BERTHA': 2,\n",
              " 'Sierra dePuebla,': 2,\n",
              " 'CASTILLO MOLINA': 2,\n",
              " 'BRIGADA CA PESINA DE AJUSTI': 2,\n",
              " 'Presbítero ISIDORO RAMIREZ': 2,\n",
              " 'Atoyac deAlvarez, Gro': 2,\n",
              " 'Sierra delEdo': 2,\n",
              " 'Cura ISIDRO RAMREZ': 2,\n",
              " 'Mexicali, B.C.': 2,\n",
              " 'Parotas, Gro': 2,\n",
              " 'deEMILIANO BARRIENTOS MARTINEZ': 2,\n",
              " 'REYES REYES ABARCA,': 2,\n",
              " 'FRANCISCO FIERRO': 2,\n",
              " 'ADRIANS ANTIAGO': 2,\n",
              " 'ISAEL': 2,\n",
              " 'CARLOS CEBALLOS LO YA': 2,\n",
              " 'Banco de Comercio de Acapulco, Gro': 2,\n",
              " 'ADRIÁN SANTIAGO': 2,\n",
              " 'CIAMIENTO': 2,\n",
              " 'JAIME FARILLNOVELO,': 2,\n",
              " 'BrigadaCampesina de Ajusticiamiento': 2,\n",
              " 'TRES MILLONES DE PESOS,': 2,\n",
              " 'JAIME FARILL NOVELO,': 2,\n",
              " 'JOEL LIMA FLORES': 2,\n",
              " 'GLORIA SANDOVAL TREJO': 2,\n",
              " 'Dicha Dependencia': 2,\n",
              " 'JOSUEL FLORES GARCIA': 2,\n",
              " 'Panotla Tlax': 2,\n",
              " 'Calles de Plan de Aya': 2,\n",
              " 'Santa Anita': 2,\n",
              " 'Primaria Rafael Valenzuela': 2,\n",
              " 'GENARO VAZ QUEZ ROJAS': 2,\n",
              " 'BRIGADA CAMPESINA DE AJUSTI': 2,\n",
              " 'ABELARDO': 2,\n",
              " 'Aguascalientes, Ags': 2,\n",
              " 'MIGUEL ANGEL ROMO,': 2,\n",
              " 'PAZ': 2,\n",
              " '\"CESAR\",': 2,\n",
              " 'del Centro de Aguascalientes': 2,\n",
              " 'Quecuando ESPINO BA BARROS': 2,\n",
              " 'Puerto de Acapul': 2,\n",
              " 'Director de la Esc': 2,\n",
              " 'PABLO CABAÑAS': 2,\n",
              " 'BAÑAS BARRIENTOS': 2,\n",
              " 'DFS,': 2,\n",
              " 'Preparatoria Popular de Culiacán, Sin': 2,\n",
              " 'LEOPOLDO ANGULO': 2,\n",
              " 'Polo Angulo': 2,\n",
              " 'DIEGO LUCERO MARTINEZ,': 2,\n",
              " 'ANTONIO': 2,\n",
              " 'RAMIRO,': 2,\n",
              " 'RAMI RO DIAZ AVALOS': 2,\n",
              " 'GAS PAR': 2,\n",
              " 'RAUL DIAZ': 2,\n",
              " 'MELCHOR': 2,\n",
              " 'BRIGADA CAMPESINA DE': 2,\n",
              " 'DOS': 2,\n",
              " 'CORTES CASTRO, Carmelo': 2,\n",
              " 'Unidad Tlatelolco': 2,\n",
              " 'de la Pol Jud': 2,\n",
              " 'Capitan de Inf': 2,\n",
              " 'El Mago': 2,\n",
              " 'FUERZAS ARMADAS REVOLUCIONARIAS,': 2,\n",
              " 'Del Edo': 2,\n",
              " 'ADALBERTO RAMIREZ ARREDONDO,': 2,\n",
              " 'Estudiante Guerrerense': 2,\n",
              " 'En Acapulco': 2,\n",
              " 'ALVARADO BARRERA': 2,\n",
              " 'Hospital de Pediatría': 2,\n",
              " 'FRENTE ARMADO DEL PUEBLO': 2,\n",
              " 'Estado de Hidalgo,': 2,\n",
              " 'Tijuana, B.C.,': 2,\n",
              " 'PETER': 2,\n",
              " 'Río Lerma,': 2,\n",
              " 'Dirección Federal de Seguridad,': 2,\n",
              " 'INTERROGATORIO:': 2,\n",
              " 'ARESTEGUI RUIZ, Rafael': 2,\n",
              " 'FLORENCIO MEDRANO MEDEROS': 2,\n",
              " 'IPN': 2,\n",
              " 'San Juan de': 2,\n",
              " 'MAR,': 2,\n",
              " 'S.T.A.I.S.U.A.G. ,': 2,\n",
              " 'JOSAFAT ALCARAZ SANTOS,': 2,\n",
              " 'VICTORIA,': 2,\n",
              " 'CABAÑAS FIERRO Zacarias': 2,\n",
              " 'Autoridades Mu': 2,\n",
              " 'CABAÑAS OCAMPO Luis': 2,\n",
              " 'CASIQUES': 2,\n",
              " 'Lucio Cabañas': 2,\n",
              " 'Rector DR': 2,\n",
              " 'F.A.R.,': 2,\n",
              " 'DIAZ FRIAS': 2,\n",
              " 'DIAZ FRIAS Carlos': 2,\n",
              " 'JUAN GUILLERMO HERNANDEZ DIAZ,': 2,\n",
              " 'AMPF': 2,\n",
              " 'Edo, de Gro': 2,\n",
              " 'Policia Judicial': 2,\n",
              " 'WENCESLAO JOSE GARCIA': 2,\n",
              " 'Asociación Cívica Guerrerense': 2,\n",
              " 'Cívica Guerrerense,': 2,\n",
              " 'LOPEZ HERNANDEZ, Gladys': 2,\n",
              " 'ROMERO FROYLAN CABALLERO RAMOS': 2,\n",
              " 'LOPEZ HERNANDEZ Gladys Guadalupe': 2,\n",
              " 'LOZA PATIÑO Florentino': 2,\n",
              " 'San Martín': 2,\n",
              " 'MARTINEZ GARCIA,Marcelino': 2,\n",
              " 'Resolución Presidencial': 2,\n",
              " 'de Atoyac de Alvarez, Gro': 2,\n",
              " 'LUIS RAMIREZ LAZCANO': 2,\n",
              " 'Distrito Federal': 2,\n",
              " 'D.F.S.': 2,\n",
              " 'Brigada Roja': 2,\n",
              " 'CNED': 2,\n",
              " 'Pueblo de Guerrero,': 2,\n",
              " 'CARMELO': 2,\n",
              " 'NO ES UNA PERSONA ESPECIFICA': 2,\n",
              " 'CONASUPO': 2,\n",
              " 'San Marcos': 2,\n",
              " 'Costa Chica': 2,\n",
              " 'MéxicoAcapulco,': 2,\n",
              " 'SALVADOR ANGELES SALAS,': 2,\n",
              " 'THELMA GUADALUPE SOTO MARTINEZ,': 2,\n",
              " 'F.A.L.,': 2,\n",
              " 'MEXICO': 2,\n",
              " 'SRA': 2,\n",
              " 'GOMEZ MOHARRO': 2,\n",
              " 'ABARCA ALARCON,': 2,\n",
              " 'U.A.P.': 2,\n",
              " 'A.N.U.I.E.S.,': 2,\n",
              " 'ALFONSO LOPEZ BELLO': 2,\n",
              " 'GUADALUPE ZAVALA MARTINEZ': 2,\n",
              " 'Normal Sup': 2,\n",
              " 'CANTU,': 2,\n",
              " 'Genaro Vázquez Rojas': 2,\n",
              " 'Campesina de Ajusticiamiento': 2,\n",
              " 'Marí Elena': 2,\n",
              " 'ANGEL,': 2,\n",
              " 'Firma FILIBERTO VIGUERAS': 2,\n",
              " 'PALMA RAMIREZ': 2,\n",
              " 'VER TEXTO DEL COMUNICADO AMPLIAMENTE EN ESTE EXPEDIENTE LEGAJO': 2,\n",
              " 'FOJA': 2,\n",
              " '“Heraldo” de Chihuahua, Chih': 2,\n",
              " 'Hospital General': 2,\n",
              " 'GAMIZ GARCIA, Amalia': 2,\n",
              " 'PARTIDO PROLETARIO UNIDO DE AMERICA': 2,\n",
              " 'PPUA': 2,\n",
              " 'P.P.U.A.,': 2,\n",
              " 'Estado de Morelos,': 2,\n",
              " 'POLICIA EN EL ESTADO DE GUERRERO': 2,\n",
              " 'Rector de la UAG': 2,\n",
              " 'Procurador Gral': 2,\n",
              " 'U.A.G': 2,\n",
              " 'ELOYCISNEROS GUILLEN': 2,\n",
              " 'Ometepec, Gro': 2,\n",
              " 'CEN': 2,\n",
              " 'ING': 2,\n",
              " 'R.M.': 2,\n",
              " 'SubDirector de la Policía Judicial': 2,\n",
              " 'AR MANDO ARRIAGA VALEO': 2,\n",
              " 'VICTORICO LOPEZ FIGUEROA': 2,\n",
              " 'MUNUZURI CLARK': 2,\n",
              " 'Auditorio de la S.A.R.H.,en Cd.Obregón,Son': 2,\n",
              " 'Dependencia Ing': 2,\n",
              " 'FRANCISCO MERINO RABAGO,': 2,\n",
              " 'Asamblea de Programación de Cultivos Agrícolas,para': 2,\n",
              " 'Pdte de la Rep': 2,\n",
              " 'JOSE LOPEZ PORTILLO': 2,\n",
              " 'Estadio\"Azteca\"rvv': 2,\n",
              " 'HERIBERTO SALGADO ALVAREZ,': 2,\n",
              " 'Presidente de la Repúbli': 2,\n",
              " 'Delegación Alvaro Obregón': 2,\n",
              " 'Jesus Terán': 2,\n",
              " 'Ruiz Cortinez, Col': 2,\n",
              " 'Conde Las Palmas,': 2,\n",
              " 'DE LA CRUZ VELASCO': 2,\n",
              " 'Jefe de Area de Iztacalco': 2,\n",
              " 'Alianza de Camioneros de México,': 2,\n",
              " 'HECTOR HERNANDEZ CASANOVA,': 2,\n",
              " 'ARTURO DURAZO MORENO': 2,\n",
              " 'MANUEL GURRIA ORDOÑEZ, Srio': 2,\n",
              " '“B” de Gobierno,': 2,\n",
              " 'Escuela Superior de Agricultura': 2,\n",
              " 'Petatlán, Gro': 2,\n",
              " 'Facultad de Filosofía': 2,\n",
              " 'ECHEVERRIA': 2,\n",
              " 'Senador RUBEN FIGUEROA FIGUEROA,': 2,\n",
              " 'Ejecutivo Estatal': 2,\n",
              " 'Zihuatanejo, Gro': 2,\n",
              " 'RUBEN FIGUEROA FIGUEROA': 2,\n",
              " 'Ley de Amnistia': 2,\n",
              " 'Escuela Normal RuralRaul Isidro Burgos\"': 2,\n",
              " 'Ayotzinapa,Mpio': 2,\n",
              " 'Consejo Univo': 2,\n",
              " 'Ley Gral': 2,\n",
              " 'Amnistía,éste Nandatario Estatal': 2,\n",
              " 'Edo., Gro., Lic.CARLOS U.ACOSTA VIQUEZ,': 2,\n",
              " 'C.P. ALFONSO SOTOMAYOR LOPEZ,': 2,\n",
              " 'XLV Convención Bancaria,': 2,\n",
              " 'P.C.M.,el': 2,\n",
              " 'P.R.I.,ya': 2,\n",
              " 'RUBEN ROMAN BARRERA,su': 2,\n",
              " 'Sub/Jfe': 2,\n",
              " 'FIGUEROA': 2,\n",
              " 'Diputado Federal': 2,\n",
              " 'Directores de Escuelas': 2,\n",
              " 'C.E.N.': 2,\n",
              " 'Loma Bonita, Oax': 2,\n",
              " 'Partido Revolucionario Institucional': 2,\n",
              " 'ConsultorÍa': 2,\n",
              " 'C.N. C.,': 2,\n",
              " 'I Pleno Nal.Agrario de la C.N.C. ,': 2,\n",
              " 'Srio Gral': 2,\n",
              " 'Acapulco, Esta': 2,\n",
              " 'HORACIO HDEZ ALCARAZ': 2,\n",
              " 'HDEZ ALCARAZ,': 2,\n",
              " 'HERNANDEZ Diaz, NATONIO': 2,\n",
              " 'Del Consejo de Vigilancia de': 2,\n",
              " 'AGUSTIN RETELLIN TUCENA,': 2,\n",
              " 'ANTONIO CATALAN': 2,\n",
              " 'JESUS OBISPO OBREGON, Tesorero,': 2,\n",
              " 'Palacio de Gobierno,': 2,\n",
              " 'LOPEZ BETANCOURT, Raúl Eduardo': 2,\n",
              " 'LOPEZ FIGUEROA, Victorico': 2,\n",
              " 'Materia de Transporte': 2,\n",
              " 'Gobierno de la Entidad': 2,\n",
              " 'Frente Universitario Guerrerense,': 2,\n",
              " 'MORALES CUEVAS Arnulfo': 2,\n",
              " 'Rep.Lic.J.L.P.': 2,\n",
              " 'GILDARDO de': 2,\n",
              " 'AcapulcoMéxico,': 2,\n",
              " 'FOLIO NO': 2,\n",
              " 'POLICIA EN EL EDO': 2,\n",
              " 'JUAREZ GUZMAN,Dir': 2,\n",
              " ', de Seguridad Pública Estatal,': 2,\n",
              " 'Jefatura de la Pol': 2,\n",
              " 'LORENZO RAMIREZ DELGADO,Cmdte': 2,\n",
              " 'Tecpan de Galeana': 2,\n",
              " 'JUANA URIOSTEGUI,hermana de': 2,\n",
              " 'URIOSTEGUI': 2,\n",
              " ',de Atoyac de Alvarez,por': 2,\n",
              " 'Sierra de Santa Lucía': 2,\n",
              " 'La Palma,': 2,\n",
              " 'RAMIREZ DELGADO': 2,\n",
              " 'RIVELIO BAZAN, Antonio': 2,\n",
              " 'Apatzingan, Mich': 2,\n",
              " 'Agentes Policiacos': 2,\n",
              " 'Uruapan, Mich': 2,\n",
              " 'Agente de la P': 2,\n",
              " 'M.P.': 2,\n",
              " 'BATALLON DE INFANTERIA': 2,\n",
              " 'RAMON,': 2,\n",
              " 'El Pastel,': 2,\n",
              " 'LUIS': 2,\n",
              " 'IGNACIO SALAS,': 2,\n",
              " 'IGNACIO SALAS': 2,\n",
              " 'Salinas Mora,': 2,\n",
              " '\"Cuestiones Fundamentales': 2,\n",
              " 'Coordinadora Nal': 2,\n",
              " 'UNIVERSIDAD DE GUERRERO': 2,\n",
              " 'El LIC': 2,\n",
              " 'Universidad de Gro': 2,\n",
              " 'Ley Orgánica': 2,\n",
              " 'Frente Universitario Guerrerense': 2,\n",
              " 'GABINO ORGANISTA AGUILAR': 2,\n",
              " 'Rector de la Uni': 2,\n",
              " 'EXP': 2,\n",
              " 'Escuelas de Comercio': 2,\n",
              " 'Tribunal Sup': 2,\n",
              " 'AUT': 2,\n",
              " 'MARIO CERROS GARCIA': 2,\n",
              " 'WENCESREZA': 2,\n",
              " 'Escuela de Comercio': 2,\n",
              " 'LUIS ECHEVERRIA ALVAREZ,': 2,\n",
              " 'ANUIES': 2,\n",
              " 'MORALES CARRANZA,': 2,\n",
              " 'Palacio de Gbno': 2,\n",
              " 'SPAUNAM,': 2,\n",
              " 'Rector MORALES CARRANZA': 2,\n",
              " 'EFRAIN BERMUDEZ': 2,\n",
              " 'IgualaTaxco': 2,\n",
              " 'E.S.A.,': 2,\n",
              " 'U.A.G.,para': 2,\n",
              " 'Estado de Oaxaca,': 2,\n",
              " 'Normal Superior,': 2,\n",
              " 'Secretario General de Gobierno': 2,\n",
              " 'ISSSTE de': 2,\n",
              " 'JOSE LUIS PARRA MIJANGOS,': 2,\n",
              " 'USCUAG,': 2,\n",
              " 'Comité Ejecutivo': 2,\n",
              " 'S.T.A.I.S.U.A.G.,en': 2,\n",
              " 'S.T.A.I.S.U.A.G.': 2,\n",
              " 'Escuela de Derecho': 2,\n",
              " 'NORBERTO FLORES BAÑOS': 2,\n",
              " 'Comisión de Honor': 2,\n",
              " 'JESUS HERIBERTO NORIEGA CANTU': 2,\n",
              " 'JUAN GUILLERMO HERNANDEZ DIAZ': 2,\n",
              " 'BERMUDEZ RIVERA': 2,\n",
              " 'RUBEN MORENO LECANDA': 2,\n",
              " 'P.C.M.,por': 2,\n",
              " 'RICARDO KLIMECK GAMA': 2,\n",
              " 'Casa de Estudios,se': 2,\n",
              " 'Unidad Democrática': 2,\n",
              " 'ALCARAZ SANTOS': 2,\n",
              " 'WENCES REZA,ya': 2,\n",
              " 'P.C.M.,P.R.T.,': 2,\n",
              " 'Contrato Colectivo': 2,\n",
              " 'EFRAIN BERMUDEZ RIVERA,Srio': 2,\n",
              " 'BERMUDEZ RIVERA,': 2,\n",
              " 'Sala Magna': 2,\n",
              " 'RAFAEL': 2,\n",
              " 'El Jefe': 2,\n",
              " 'C.U.': 2,\n",
              " 'SEP,': 2,\n",
              " 'ISSSTE': 2,\n",
              " 'ECAUAG,': 2,\n",
              " 'Izquierda Independiente': 2,\n",
              " 'FEUG': 2,\n",
              " '“HUGO”': 2,\n",
              " 'HERNANDEZ GALLEGOS, Victoria': 2,\n",
              " 'HERNANDEZ GALLEGOS Victoria': 2,\n",
              " 'VICTOR BRUNO NECOCHEA LOPEZ, de': 2,\n",
              " '\"PETER\"': 2,\n",
              " 'VICTORIA HERNANDEZ,': 2,\n",
              " 'Valle de Santiago, Gto': 2,\n",
              " 'ISABEL,': 2,\n",
              " '\"FRENTE ARMADO DEL PUEBLO': 2,\n",
              " '\"OMAR\",': 2,\n",
              " 'ROJO CORONADO': 2,\n",
              " 'NECOCHEA LOPEZ Víctor Bruno': 2,\n",
              " 'NECOCHEA LOPEZ,': 2,\n",
              " 'CASTRO FUENTES, Isidro': 2,\n",
              " 'GUILLERMO MENA RIVERA': 2,\n",
              " 'Barranca La Laja': 2,\n",
              " 'ADALBERTO RAMIREZ ARREDONDO': 2,\n",
              " 'Estado Burgués Mexicano': 2,\n",
              " 'CARLOS LANDEROS AVILES,': 2,\n",
              " 'Estado de M´exico,': 2,\n",
              " 'otros,Presidente de la Federación Estudiantil Universitaria Guerrerense': 2,\n",
              " 'Diputados Federales': 2,\n",
              " 'Ley de Amnis': 2,\n",
              " 'de Acapulco Gro;': 2,\n",
              " 'ALEJANDRO RIVERA PATIÑO': 2,\n",
              " '\"Fuerzas Armadas Revolucionarias\";': 2,\n",
              " 'THELMA GUADALUPE SOTO MARTINEZ': 2,\n",
              " '\"Brigada ChéGuevara\"': 2,\n",
              " '\"FUERZAS ARMADAS REVOLUCIONARIAS\"': 2,\n",
              " 'MENA RIVERA': 2,\n",
              " 'RIVERA PATIÑO,': 2,\n",
              " 'U.A.G..Agregaron': 2,\n",
              " 'FIERRO LOZA': 2,\n",
              " 'Comando Armado Revolucionario de Morelos,': 2,\n",
              " 'FIERRO LOZA, Francisco': 2,\n",
              " '\"SIMON\",': 2,\n",
              " 'LEOPOLDO ANGULO LUQUE': 2,\n",
              " '\"ANDRES\"': 2,\n",
              " '\"SIMON\"': 2,\n",
              " 'E.S.I.A.': 2,\n",
              " '\"SAM\"': 2,\n",
              " 'CLASICO': 2,\n",
              " 'EL GUERO': 2,\n",
              " 'ZAMORA GALINDO, Camerino': 2,\n",
              " 'RAMON': 2,\n",
              " 'ZONA MILITAR No': 2,\n",
              " 'ADAME FLORE Samuél': 1,\n",
              " 'Palacio Mpal': 1,\n",
              " 'CONSEJO AUTODEFENSA DEL PUE BLO DE ATOYAC, ASOC': 1,\n",
              " 'DE CAFETICULTORES INDEPENDIE TES DEL MPIO': 1,\n",
              " 'DE ATOYAC': 1,\n",
              " 'M.R.M.': 1,\n",
              " 'Piedra Ancha,': 1,\n",
              " 'ADAME FLORES Samuél': 1,\n",
              " 'CLISERIO DE JESUS ARGUE LLES,mencionaa': 1,\n",
              " 'GUEL ALEMAN, EMILIO AZCARRAGA': 1,\n",
              " 'HILARIO ADAME HERNANDEZ': 1,\n",
              " 'LEOVIGILDO PINZON TOLENTINO,': 1,\n",
              " 'HILARIO ADA ME HERNANDEZ': 1,\n",
              " 'LEOVIGILDO PINZON TOLENTINO': 1,\n",
              " 'ESPERANZA OLIVIA GOMEZ DE ALATRISTA': 1,\n",
              " 'ESPERANZA OLIVIA GOMEZ': 1,\n",
              " 'Cárcel, ESPERANZA OLIVA GOMEZ': 1,\n",
              " 'Cárcel, GUADALUPE RAMIREZ BERASTEGUI, ALVARO': 1,\n",
              " 'BIGOTES, El': 1,\n",
              " 'MIGUEL DUARTE LOPEZ': 1,\n",
              " 'Fuerzas Armadas de la Nueva Revolución': 1,\n",
              " 'LE': 1,\n",
              " 'EL PATILLAS': 1,\n",
              " 'EL CEJAS': 1,\n",
              " 'JUSTINO VILLEGAS ZUÑIGA,': 1,\n",
              " 'NATALIA CALVILLO DE GALLARDO,': 1,\n",
              " 'Penal de Jalapa, Ver': 1,\n",
              " 'GARAY GONZALEZ, Génaro Francisco': 1,\n",
              " 'Juzgado Penal': 1,\n",
              " 'HERNANDEZ RIVERA Juan': 1,\n",
              " 'MARCOS SALDA ÑA': 1,\n",
              " 'FRANCISCO GARAY': 1,\n",
              " 'SUPLICO DE JESUS DE LA CRUZ': 1,\n",
              " 'deAgustin Bautista Cabrera,': 1,\n",
              " 'TRINIDAD GARAY GONZALEZ': 1,\n",
              " 'BER NABE GARAY GONZALEZ': 1,\n",
              " 'FRANCISCO GARAY,': 1,\n",
              " 'DOMINGO,': 1,\n",
              " 'GENARO VAZQUEZ,': 1,\n",
              " 'FLORES BELLO,': 1,\n",
              " 'NORBERTO RAMIREZ,': 1,\n",
              " 'SALVADOR': 1,\n",
              " 'RAMIRO': 1,\n",
              " 'ANDRES LOPEZ DIAZ': 1,\n",
              " 'ARTURO LOPEZ AYALA': 1,\n",
              " 'MARIA LUISA LOPEZ AYALA': 1,\n",
              " 'LAURA SERNA DIAZ': 1,\n",
              " 'LIDIA AYALA DE LOPEZ,MARIA LOPEZ AYALA,MARIA LUISA LOPEZ AYALA': 1,\n",
              " 'MARIA LUISA LOPEZ AYALA,LILIA AYALA DE LOPEZ ARTURO LOPEZ AYALA': 1,\n",
              " 'P. C.M.': 1,\n",
              " 'Comité Na': 1,\n",
              " 'Comité Nal': 1,\n",
              " 'aGUILLERMO CALRDEON': 1,\n",
              " 'laComisión Ejecutiva': 1,\n",
              " 'Comité Nacional': 1,\n",
              " 'ANTECEDENTES : Nació': 1,\n",
              " 'ORIZABA, Ver': 1,\n",
              " 'EUGENIO MARTI NEZ': 1,\n",
              " 'SOLEDAD BRAVO': 1,\n",
              " 'Médico Cirujano': 1,\n",
              " 'Jefe de Servicios Federales,': 1,\n",
              " 'S.S.A.en': 1,\n",
              " 'de Igiene Industrial': 1,\n",
              " 'BRACHO CAMPOS': 1,\n",
              " 'GREGORIO FITZ': 1,\n",
              " 'JAIM ME CASTREJON DIEZ': 1,\n",
              " 'GREGORIO FITZ GARCIA': 1,\n",
              " 'de Iguala G': 1,\n",
              " 'SALVADOR FLORES': 1,\n",
              " 'Profesora Normalista,': 1,\n",
              " 'Primaria Rep': 1,\n",
              " 'Granjas México,para': 1,\n",
              " 'Ejido de Río Bravo': 1,\n",
              " 'CASTI LLO': 1,\n",
              " 'HBERTO CASTILLO,': 1,\n",
              " 'ADALBERTO PLIEGO': 1,\n",
              " 'Rifle Cal': 1,\n",
              " 'Cuautla,Mor': 1,\n",
              " 'PLIEGO,': 1,\n",
              " 'por FILIBERTO SOLIS,': 1,\n",
              " 'JOSE GUTIERREZ MARTINEZ': 1,\n",
              " 'Ixtapaluca, Edo': 1,\n",
              " 'La Montaña': 1,\n",
              " 'RAFAEL OLEA': 1,\n",
              " 'Biblioteca Nal': 1,\n",
              " 'GENARO,en': 1,\n",
              " 'DANIEL VAZQUEZ RO JAS': 1,\n",
              " 'GENARO,': 1,\n",
              " 'Atencingo,Estado de Puebla,': 1,\n",
              " 'ELPIDIO OCAMPO,': 1,\n",
              " 'JUAN GALLARDO': 1,\n",
              " 'VICENTE IRAIS': 1,\n",
              " 'BRACHO': 1,\n",
              " 'BRZACHO': 1,\n",
              " 'OLEA CASTANEYRA Rafael': 1,\n",
              " 'SANTOS MENDE DEZ BAILON,': 1,\n",
              " 'D.F., de GENARO VAZQUEZ ROJAS': 1,\n",
              " 'DR ROCA,': 1,\n",
              " 'dePuebla, Pue': 1,\n",
              " 'ERNESTINA OLEA CASTANEYRA,': 1,\n",
              " 'C.C.I.y': 1,\n",
              " 'F.E.P.': 1,\n",
              " 'C.C.I. .FEP..,': 1,\n",
              " 'LOLA VIDRIO,': 1,\n",
              " 'Comités Estatales': 1,\n",
              " 'Suprema Corte de Justicia': 1,\n",
              " 'Código Penal': 1,\n",
              " 'F.E.P.,': 1,\n",
              " 'P.A.RR.M.,': 1,\n",
              " 'RAMIREZ HUERTA Juan': 1,\n",
              " 'Agregó RAMIREZ': 1,\n",
              " 'C.C.I. de GARZON SANTIBAÑEZ,': 1,\n",
              " 'C.N.C.': 1,\n",
              " 'ComtésEstatales': 1,\n",
              " 'ELSA CAMACHO RAMIREZ, CARMEN CAMACHO MELENDEZ': 1,\n",
              " 'CECILIA AVILA GONZALEZ': 1,\n",
              " 'EN': 1,\n",
              " 'ELSA CAMACHO ALVAREZ, CLARA RODRIGUEZ SOLA NO, OFELIA HERNANDEZ SANCHEZ, ATENODORA MARBAN TELLEZ': 1,\n",
              " 'porJAVIER RAMIRO LEON LUNA, ATENEDORA MARBAN PEREZ': 1,\n",
              " 'GUSTAVO PLIEGO SEGOVIA': 1,\n",
              " 'ANTONIO ARANDA FLORES, ALFREDO ZULBARAN BA— RRANCO, CAROLINA HERNANDEZ HERNANDEZ': 1,\n",
              " 'CANDIDA MORALES VDA': 1,\n",
              " 'DE SOLIS': 1,\n",
              " 'MARINA LOPEZ MEDINA, CLARA RODRÍGUEZ SOLANO': 1,\n",
              " 'OFELIA GONZALEZ TOLEDO, ANTONIO ARANDA FLORES': 1,\n",
              " 'ROMERO MARTIN ABRAHAM SSNCHEZ GOMEZ': 1,\n",
              " 'MARIA ESTHER FERNANDEZ MRTINEZ': 1,\n",
              " 'BRIGIDO RAMIREZ RODRIGUEZ': 1,\n",
              " 'MARIA ESTHER FERNANDEZ MARTI NEZ': 1,\n",
              " 'CLARA RODRIGUEZ DE RAMIREZ': 1,\n",
              " 'MARINA LOPEZ MEDINA, CLARA RODRUIGUEZ SOLANO': 1,\n",
              " 'MARIA RAMIREZ CERVANTES': 1,\n",
              " 'CLARA RODRIGUEZ SOLANO MARINA LOPEZ MEDINA': 1,\n",
              " 'potMARINA LOPEZ MEDINA, IRMA RUIZ GONZALEZ, BEATRIZ TO LEDO J.': 1,\n",
              " 'MARIA RAMIREZ VERVANTES': 1,\n",
              " 'CLARA RODRIGUEZ SOLANO': 1,\n",
              " 'MENDOZA GAYTAN,': 1,\n",
              " 'CONCEP CION SOLIS ORALES': 1,\n",
              " 'Comercial Azteca,': 1,\n",
              " 'ELENA AGUILERA DE RODRIGUEZ': 1,\n",
              " 'ROBERTO RODRIGUEZ MUÑOZ': 1,\n",
              " 'DANIEL RODRIGUEZ MOLINA': 1,\n",
              " 'TA JOSEFINA': 1,\n",
              " 'CELIA ROSAS ABUNDES, JUAN A. OLVERA GARCIA, SUSANA AYALA ROSAS, LILIA PLATA PINTADO, JORGE AYALA DURAN.': 1,\n",
              " 'JOSEFI NA TREJO ROSAS, DANIEL RODRIGUEZ MOLINA, ELENA AGULERA VDA. DE RODRIGUEZ, CELIA CARLOTA JOSE FINA MEZA VERA, ARTURO CARRANZA GONZALEZ, MIGUEL E. BRAVO CASTRO.': 1,\n",
              " 'JOSEFINA TREJO ROSAS': 1,\n",
              " 'Penal por:CELIA ROSAS ABUNDES; SUSANA ROSAS AYALA; MARIA INES AYALA ROSAS; ESTHER AYALA ROSAS; LILIA PLATA PINTADO': 1,\n",
              " 'JOSE ANTONIO RODRIGUEZ SANCHEZ': 1,\n",
              " 'DAVID JESUS MENDOZA GAYTAN': 1,\n",
              " 'aDAVID JESUS MENDOZA GAYTAN': 1,\n",
              " 'SANCHEZ ANTONIO, Vicente Irais': 1,\n",
              " 'OTILIA ANTONIO VIUDA DE SANCHEZ': 1,\n",
              " 'LETICIA MORENO RIVERA': 1,\n",
              " 'Normal de Primaria': 1,\n",
              " 'Nacional de Maestros': 1,\n",
              " 'OTHON SALAZAR,': 1,\n",
              " 'Frente de Liberación Nacional de Venezuela': 1,\n",
              " 'Fué Presidente': 1,\n",
              " 'Comité de Propaganda de la Soc': 1,\n",
              " 'de Alumnos de la Normal': 1,\n",
              " 'Proc Gral': 1,\n",
              " 'SOTELO PERZ ANTONIO Pro': 1,\n",
              " 'P PLANES TENDIENTES A LATERAR EL ORDEN': 1,\n",
              " 'LA PAZ DEL EDO': 1,\n",
              " ', INJURIAS, CALUMNIAS': 1,\n",
              " 'ASOCIACION DE LICTUOSA': 1,\n",
              " 'Mixto de la Lra': 1,\n",
              " 'Judicial de Bravos Gro': 1,\n",
              " 'SOTELO PEREZ Antonio Prof,': 1,\n",
              " 'Sur SERIE DE FOTOGRAFIAS CUANDO SALIO A LA HABANA': 1,\n",
              " 'Habana Cuba': 1,\n",
              " 'Tuxpan,Ver': 1,\n",
              " 'D.F.,en': 1,\n",
              " 'GENARO VAZQUEZROJAS': 1,\n",
              " 'TELLEZ PACHECO': 1,\n",
              " 'MARTHA TELLE PACHECO': 1,\n",
              " 'MARTHA TELLEZ PACHECO; ENRIQUE TELLEZ GARCIA; ROSA PACHECO TELLEZ': 1,\n",
              " 'LIDIA GARCIA TELLEZ': 1,\n",
              " 'MARTHA TELLES PACHCO': 1,\n",
              " 'ENRIQUE TELLEZ GARCIA, ROSA PACHECO DE TELLEZ': 1,\n",
              " 'LI': 1,\n",
              " 'TELLES PACHECO, Enrique': 1,\n",
              " 'MARTHA TELLEZ PACHECO, ENRIQUE TELLEZ GARCIA ROSA PACHECO DE TELLEZ, LIDIA GARCIA DE TELLEZ SILVIA GARCIA LOPEZ': 1,\n",
              " 'MARTHA TELLEZ PACHECO, ROSA PACHECO DETELLEZ': 1,\n",
              " 'LIDIA GARCIA DE TELLEZ': 1,\n",
              " 'MARTHA TELLEZ PACHECO, RODA PACHECO DE TELLEZ, LIDIA GARCIA DE TELLEZ, SILVIA GARCIA LOPEZ': 1,\n",
              " 'MARTHA TELLEZ PACHECO, ROSA OACHECO DE TE LLEZ, PEDRO VALVERDE TELLEZ, LIDIA GARCIA DE TELLEZ': 1,\n",
              " 'MARTHA TELLEZ PACHECO': 1,\n",
              " 'MARIA TAPIA DE TE LLEZ, ROSA PACHECO DE TELLEZ, PEDRO VALVERDE TE LLEZ': 1,\n",
              " 'ROSA PACHECO DE TELLEZ, LILIA GARCIA DE TELLEZ': 1,\n",
              " 'pOr: MARTHA TELLEZ PACHECO': 1,\n",
              " 'ROSA PACHECO DE TELLEZ': 1,\n",
              " 'por:MARTHA TELLEZ PACHECO, MARIA TAPIA DE TELLEZ': 1,\n",
              " 'ROSA PACHE CO DE TELLEZ': 1,\n",
              " 'MARTHA TELLEZ PACHECO, ROSA PACHECO DE TE LLEZ': 1,\n",
              " 'JESUS ROBERTO TE LLEZ PACHECO': 1,\n",
              " 'LIDIA GARCIA DE TELLEZ, ALFONSO GARCIA QUIN tANA,MARTHA TELLEZ PACHECO, ROSA PACHECO DE TELLEZ': 1,\n",
              " 'Penal por:JOSE RAUL TELLEZ PACHECO': 1,\n",
              " 'ROSA P ACHECO DE TELLEZ': 1,\n",
              " 'ANTONIA PACHECO VDA': 1,\n",
              " 'DE BLANCO, SAN TA ISABEL HERNANDEZ DEBLANCO MARIA DE LOS AN GELES TAPIA TELLEZ, ROSA PACHECO DE TELLEZ,MATHA TELLEZ PACHECO': 1,\n",
              " 'LIDIA GARCIA DE TELLEZ, MARTHA TELLEZ PACHECO, ROSA PACHECO DE TELLEZ': 1,\n",
              " 'JOSE RAUL TELLEZ PACHECO, ROSA PACHECO DE TELLEZ, JESUS ROBERTO TELLEZ PACHECO': 1,\n",
              " 'PACHECO': 1,\n",
              " 'JESUS ROBERTO TELLEZ PACHECO': 1,\n",
              " 'ROSA PACHECO DE TELLES': 1,\n",
              " 'ROSA PACHECO DE TELLEZ, MARIA DE LOURDES TA PIA DE TELLEZ, JOSE PAUL TELLEZ PACHECO, CECILIA CARDENAS ORTIZ': 1,\n",
              " 'MAR THA TELLEZ PACHECO, ROSA PACHECO DE TELLEZ LIDIA GARCIA DE TELLEZ': 1,\n",
              " 'FERNANDO TELLEZ PACHECO': 1,\n",
              " 'HERMANO': 1,\n",
              " 'MARIA GLORIA GUADALUPE MAÑON URBINA': 1,\n",
              " 'MUÑOZ URBINA': 1,\n",
              " 'MARIA DE LOURDES TAPIA PERALTA': 1,\n",
              " 'CUÑADA': 1,\n",
              " 'VILLEGAS ZUÑIGA, Justino': 1,\n",
              " 'ANDRES PEREZ,': 1,\n",
              " 'ANDRES,': 1,\n",
              " 'DE LOURDES SANCHEZ ROSALES, TOMASA HDZ': 1,\n",
              " 'BENITEZ': 1,\n",
              " 'JAIME JAIMES HERNANDEZ, INES VARGAS HERNANDEZ, TOMASA HERNANDEZ V.': 1,\n",
              " 'INES': 1,\n",
              " 'JAIMES HERNANDEZ, Florentino': 1,\n",
              " 'MARIA DE LOURDES SANCHEZ ROSALES, BRAULIA JAIMES HERNANDEZ': 1,\n",
              " 'JAIME JAIMEZ HERNANDEZ': 1,\n",
              " 'Penal por:Ma': 1,\n",
              " 'JAIME JAI MES HERNANDEZ': 1,\n",
              " 'MARIA DE LOURDES SANCHEZ ROSALES': 1,\n",
              " 'DE LOURDES SANCHEZ ROSALES, BRAULIA JAIMES HERNANDEZ': 1,\n",
              " 'AMRIA DE LOURDES SANCHEZ, ARCELIA VELAZQUEZ': 1,\n",
              " 'TENEMOS GUERRILLAS URBANAS LOS ASALTOS A LOS BANCOS LOS SECUESTROS': 1,\n",
              " 'LA A GITA CION ESTUDIANTIL TIENEN UN SOLO ORIGEN': 1,\n",
              " 'México, DF En': 1,\n",
              " 'ODILON ACUÑA': 1,\n",
              " 'SUAREZ TELLEZ': 1,\n",
              " 'ANGEL NAVARRETE de Petatlán, Gro': 1,\n",
              " 'RAYMUNDO ABARCA': 1,\n",
              " 'LUIS CABAÑASde Atoyac de Alvarez,': 1,\n",
              " 'NEFTALI MENA MENA Delegado Gral': 1,\n",
              " 'LAUREANO SALCEDO': 1,\n",
              " 'SEGUNDA PARTE': 1,\n",
              " 'EN EL ESTADO DE GUERRERO': 1,\n",
              " 'VicePresidente de la Asociación': 1,\n",
              " 'CCI comunista': 1,\n",
              " 'MADRADO': 1,\n",
              " 'Gra LEYVA MANCILLA': 1,\n",
              " '\"Asociación Cívica Guerrerense,presi': 1,\n",
              " 'ELPIDIO OCAMPO, Presidente Consejo Auto Defensa Iguala,': 1,\n",
              " 'Gobernador Abarca,quien': 1,\n",
              " 'MARIO GONZALEZ': 1,\n",
              " 'niñO Delfino Ocampo, Ahora': 1,\n",
              " 'Gobierno Estado': 1,\n",
              " 'Hotel Royalty de Iguala,buscando': 1,\n",
              " 'Asociación Cívica': 1,\n",
              " 'ABARCA': 1,\n",
              " 'AMADA RAMIREZ DE CASTRO': 1,\n",
              " 'MARIA sOTELO HERNANDEZ': 1,\n",
              " 'DE JESUS SOTELO VEGA': 1,\n",
              " 'TRINIDAD RODRIGUEZ GARDUÑO': 1,\n",
              " 'CLARA SEGURA MALO': 1,\n",
              " 'MARIA': 1,\n",
              " 'TRINIDAD SOTELO': 1,\n",
              " 'MIGUEL CUENCA NUÑEZ LEBRADO MEDINA GOMEZ': 1,\n",
              " 'JESUS RODRIGUEZ CARRETO': 1,\n",
              " 'MIGUEL OROFEZA DELOYA': 1,\n",
              " 'origInarios de Zacacoyuca,': 1,\n",
              " 'ODI LON ACUÑA CORNEJO,': 1,\n",
              " 'TIBURC CIO HERNANDEZ,': 1,\n",
              " 'ASOCIACIÓN CIVICA GUERRERENSE': 1,\n",
              " 'TES DE LOYA PROF': 1,\n",
              " 'CATALINO MACEDO IMONA VAL DIOLIVAR, DANIEL SANCHEZ, EDUARDI ARMIJO, MANUEL NAVARRETE,': 1,\n",
              " 'Comite Prodamnificados de Cuba': 1,\n",
              " 'VEGA ARCOS': 1,\n",
              " 'ROMAN BENITEZ': 1,\n",
              " 'MARIO MORAN SOTO': 1,\n",
              " 'Asambleael PPS, M.L.N.': 1,\n",
              " 'RAMONA VALDEOLIVAR': 1,\n",
              " 'Párraco de Atoyac de Alvrez ISIDRO RA MIREZ': 1,\n",
              " 'ERNESTO GAYOSSO,exigiéndole': 1,\n",
              " 'VAZ QUEZ ROJAS': 1,\n",
              " 'VAZ QUEZ ROJAS,': 1,\n",
              " 'JULIO HERSCHFIELD ALMADA, Director de A.S.A.y': 1,\n",
              " 'México, D.F.,': 1,\n",
              " 'San Jerónimo, Mpio': 1,\n",
              " 'de Benito Juárez JESUS BARRIENTOS': 1,\n",
              " 'FER NANDO SANDOVAL,': 1,\n",
              " 'sigue:ROBERTO DIEGO RADILLA': 1,\n",
              " 'BARTOLOME FLORES RODRÍGUEZ': 1,\n",
              " 'SIGFRIDO DE LA BARRERA': 1,\n",
              " 'PRISCO VINALAYA OLIVANO': 1,\n",
              " 'FILOMENO CARO': 1,\n",
              " 'RAMON RAMOS PALMA': 1,\n",
              " 'LUCIO CABAÑAS,que': 1,\n",
              " 'SON PEDRO CONTRE RAS JAVIER': 1,\n",
              " 'DONATO CONTRERAS JaVIER': 1,\n",
              " 'ABELARDO VE LAZQUEZ CARAÑAS': 1,\n",
              " 'JOSE TRACHO,': 1,\n",
              " 'LIBrADO MENDEZ ESPIRO': 1,\n",
              " ',JOSE RODRIGUEZ FLORES': 1,\n",
              " 'PILIBERTO QUINTANA, MACLOVIO SALGADO OCAMPO': 1,\n",
              " 'La Sociedod RAPAEL SALAZAR SA NCHEZ, ESTEBAN MORALES, FILIBERTO QUINTANA Pol': 1,\n",
              " 'JORGE MOTA GONZALEZ': 1,\n",
              " 'DONACIANO LUNA RADILLA': 1,\n",
              " 'Asimismo FAUSTO AVILA': 1,\n",
              " 'DIRIGENTE: Prof': 1,\n",
              " 'CARMELO GARCIA GALEANA Atoyac de Alvarez, Gto': 1,\n",
              " 'Cura Isidoro,': 1,\n",
              " 'WENCESLAO JOSE GARCIA, MA NUEL GAMEZ GARCIA,': 1,\n",
              " 'IGNACIO ARTURO SALAS OBREGON,': 1,\n",
              " 'CARLOS CEBALLOS LOYA,dijo': 1,\n",
              " 'JULIAN GONZALES': 1,\n",
              " 'Mexicali, BC': 1,\n",
              " 'ROBERTO CEBALLOS DURAN,': 1,\n",
              " 'CON SEJO LOYA': 1,\n",
              " 'Benito Juárez': 1,\n",
              " 'Unib.Aut.de B.C.,': 1,\n",
              " '— Normal Sup': 1,\n",
              " 'de Cursos de Verano de TepiC, Nay': 1,\n",
              " 'Comité Est.de B.C.,invitado': 1,\n",
              " 'JULITO PRADO, —— Srio.Cral.del Comit Est.del P.C.M.,quepor': 1,\n",
              " 'Cubano de Amistad': 1,\n",
              " 'COMANDOS ARMADOS DE GUERRERO': 1,\n",
              " 'D.F.S. ,': 1,\n",
              " 'MAnifiesta': 1,\n",
              " 'BRIGADA CAMPESINA DE AJUSTICI': 1,\n",
              " 'De Huatabam Son': 1,\n",
              " 'Chi HUAHUA': 1,\n",
              " 'Nueces, Artemisay Yuca': 1,\n",
              " 'negro:BRIGADA URBANA DE AJUSTICIAMIENTO LUCHA A MUERTE CONTRA EL ESTADO MEXICANO BURGUES': 1,\n",
              " 'A FORMAR LAS BRIGADAS ARMADAS': 1,\n",
              " 'Estatal de la R.M.,': 1,\n",
              " 'MURRA,': 1,\n",
              " 'Torreón, Coah': 1,\n",
              " 'Progatorios de JULIO FUENTES MARTINEZ': 1,\n",
              " 'ESTEBAN ORGA_ NISTA ZAMORA,': 1,\n",
              " 'DECLARA CIONES': 1,\n",
              " 'ALBERTO SALVADOR ULLOA BORNEMANN': 1,\n",
              " 'MARIA TERESA FRANCO VEGA': 1,\n",
              " 'VICENTE ESTRADA VEGA': 1,\n",
              " 'IGNACIO MARIO MADRAZO NAVARRO': 1,\n",
              " 'MARIA DE LOURDES QUIÑONEZ TREVISO,': 1,\n",
              " '‘Francisco Villa’': 1,\n",
              " 'BRIGIDO AGUILAR': 1,\n",
              " 'LINO HERNANDEZ,': 1,\n",
              " 'Poblado El Chijolar': 1,\n",
              " 'FELIX GIL,': 1,\n",
              " 'Atoyc Alvarez': 1,\n",
              " 'Panteón Mpal': 1,\n",
              " 'RIAS': 1,\n",
              " '“La Vanguardia A': 1,\n",
              " 'Pueblo “.V.A.R.P...,': 1,\n",
              " 'Wilfrido Or': 1,\n",
              " 'Nicolás Salinas': 1,\n",
              " 'Cota Leyva,que': 1,\n",
              " 'Menores de Hermosillo,Son': 1,\n",
              " 'Las Par': 1,\n",
              " 'de Huatabampo, Son': 1,\n",
              " 'Sierra de Zacapoxtla, Edo': 1,\n",
              " 'Comité de Organización Central de la Brigada Campesina de Ajusticiamiento': 1,\n",
              " 'VIRGILIO DE LEON M., JUSTINO PIZA JR.': 1,\n",
              " 'PABLO PEREZ BLANCO': 1,\n",
              " 'Pri Gobierno,': 1,\n",
              " 'Brigada Campesina de Asjuticiamiento': 1,\n",
              " 'Movimiento Revolucio': 1,\n",
              " 'Lucio Cabañas Barrientos”': 1,\n",
              " 'Contra OCTAVIO ESCUEN MERINO; NICOLAS HABANA MERINO': 1,\n",
              " 'MARTIN ARIZMENDI TORRE BLANCA': 1,\n",
              " '“El Pintas”': 1,\n",
              " '“El Pintas”, RAYMUNDO CATANA, ALVARO AVILA SEBASTIAN AVILA, ERNESTO AVILA, JUVENCIO AVILA': 1,\n",
              " 'El Ñaño,': 1,\n",
              " 'JOEL de Pesos': 1,\n",
              " '“El Pintas”, ALVARO, “El Chango”, ERNESTO, SEBASTIAN': 1,\n",
              " 'WENCHO,': 1,\n",
              " 'Pedro Terra': 1,\n",
              " '“El Pintas”, MUNDO CATANA, ERNEST, ALVARO, SEBASTIAN, WENCHO, ELIGIO LOPEZ, Ñaño': 1,\n",
              " 'Prospero Betanzos López': 1,\n",
              " '“ElPintas”': 1,\n",
              " 'FRANCISCA MEZA': 1,\n",
              " 'RAYMUNDO CATANA COLON': 1,\n",
              " '\"EL APACHE\"': 1,\n",
              " 'Escuela de Filosofía': 1,\n",
              " 'D.F. RODRIGO RODRIGUEZ': 1,\n",
              " 'CARLOS DIAZ FIRAS': 1,\n",
              " 'VARP,': 1,\n",
              " 'JOSE CARMEN TAPIA GOMEZ': 1,\n",
              " 'FAR': 1,\n",
              " 'VARP': 1,\n",
              " 'RUBEN FUENTE ALARCON': 1,\n",
              " 'CARLOS DIAS FRIAS': 1,\n",
              " 'Acaoulco, Gro': 1,\n",
              " 'de Comercio deAcapulco': 1,\n",
              " 'CUAUHTEMOC G ERRERO': 1,\n",
              " 'JUAN CORTES MORALES': 1,\n",
              " 'AURELIA CASTRO MILLAN,haber': 1,\n",
              " 'Ayotzinapa, Gro': 1,\n",
              " 'Juventud Comunista de Méx': 1,\n",
              " 'RAFAEL DIAZ GUERRA,': 1,\n",
              " 'De “Leonardo Valle”': 1,\n",
              " '“B” Primer': 1,\n",
              " 'ENRIQUE,': 1,\n",
              " 'talCESAR': 1,\n",
              " 'ERNESTO CHAGOYA': 1,\n",
              " '\"Filo, JOSE HIPOLITO CASTRO': 1,\n",
              " 'Simón SALVADOR ROSES PORCAYO': 1,\n",
              " 'ELADIO GARCIA ORTIZ': 1,\n",
              " 'Amador Salazar,': 1,\n",
              " 'Policía Luis Avila Segura,': 1,\n",
              " 'JUAN SOLANA BASAVE,': 1,\n",
              " 'Habitantes de la Col': 1,\n",
              " 'CARMELO CORTES': 1,\n",
              " ...}"
            ]
          },
          "metadata": {},
          "execution_count": 34
        }
      ]
    },
    {
      "cell_type": "markdown",
      "metadata": {
        "id": "uzVtnGmZNaqD"
      },
      "source": [
        "# Extracción de número de expediente "
      ]
    },
    {
      "cell_type": "code",
      "metadata": {
        "id": "ssabcfcwNyA7"
      },
      "source": [
        "#Requerimientos\n",
        "#from collections import Counter\n",
        "#import pandas as pd #Import pandas library as 'pd'\n",
        "#import re as re "
      ],
      "execution_count": null,
      "outputs": []
    },
    {
      "cell_type": "code",
      "metadata": {
        "id": "7In1dMH2Ny4w"
      },
      "source": [
        "#Buscar expedientes y crear una columna con él\n",
        "#file_manual[\"Exp\"]= file_manual[\"Texto\"].str.find('Exp')\n",
        "#dfExp = file_manual[file_manual['Exp']>=0]\n",
        "#dfExp[\"Exp\"] = dfExp[\"Exp\"].astype(\"int\") \n"
      ],
      "execution_count": null,
      "outputs": []
    },
    {
      "cell_type": "code",
      "metadata": {
        "id": "BL_qUjgLcGE9"
      },
      "source": [
        "#Buscar expedientes y crear una columna con él\n",
        "#dfExp = file_manual[file_manual['Exp']>=0]\n",
        "#dfExp[\"Exp\"] = dfExp[\"Exp\"].astype(\"int\")\n",
        "\n",
        "#dfExp[\"NumExp\"] =  dfExp[\"Texto\"]\n",
        "#for x in dfExp.index :\n",
        "#    dfExp[\"NumExp\"][x] = dfExp.Texto[x][(dfExp[\"Exp\"][x]):(dfExp[\"Exp\"][x]+18)]\n",
        "\n",
        "#dfExp[\"H\"] = dfExp[\"NumExp\"].str.find('H-')\n",
        "\n",
        "#dfExp[\"Expediente\"] =  dfExp[\"Texto\"]\n",
        "#for x in dfExp.index :\n",
        "#    if dfExp[\"H\"][x] > 0:\n",
        "#        dfExp[\"NumExp\"][x] = dfExp[\"NumExp\"][x][0:dfExp[\"H\"][x]] #Elimina código de H- si es que existe \n",
        "#    dfExp[\"NumExp\"][x] = re.sub(r\"\\s+\", \"\",  dfExp[\"NumExp\"][x])\n",
        "#    dfExp[\"NumExp\"][x] = re.sub(\"Exp\", \"\",  dfExp[\"NumExp\"][x])\n",
        "#    dfExp[\"Expediente\"][x] = dfExp[\"NumExp\"][x].split('-')\n",
        "#    for y in list(range(0, len(dfExp[\"Expediente\"][x]))):\n",
        "#        dfExp[\"Expediente\"][x][y] = re.sub('\\D', '', dfExp[\"Expediente\"][x][y])\n",
        "#    while(\"\" in dfExp[\"Expediente\"][x]) :\n",
        "#        dfExp[\"Expediente\"][x].remove(\"\")\n",
        "        \n",
        "#dfExp = dfExp.drop(columns=['Fuente', 'Conjunto', 'NombreArchivo', 'Texto', 'MetodoTexto', 'Exp', 'NumExp', 'H'])\n",
        "#file_manual = pd.merge(file_manual, dfExp, left_index=True, right_index=True, how='left')    \n"
      ],
      "execution_count": null,
      "outputs": []
    },
    {
      "cell_type": "code",
      "metadata": {
        "id": "xfNfLn5Emvi4"
      },
      "source": [
        "#Buscar expedientes y crear una columna con él\n",
        "#file_manual[\"H-\"]= file_manual[\"Texto\"].str.find('H-')\n",
        "#dfH = file_manual[file_manual['H-']>=0]\n",
        "#dfH[\"H-\"] = dfH[\"H-\"].astype(\"int\")\n",
        "\n",
        "#dfH[\"NumH\"] =  dfH[\"Texto\"]\n",
        "#for x in dfH.index :\n",
        "#    dfH[\"NumH\"][x] = dfH.Texto[x][(dfH[\"H-\"][x]):(dfH[\"H-\"][x]+6)]\n",
        "    \n",
        "#dfH[\"L\"] = dfH[\"NumH\"].str.find('L')\n",
        "#for x in dfH.index :\n",
        "#    if dfH[\"L\"][x] > 0:\n",
        "#        dfH[\"NumH\"][x] = dfH[\"NumH\"][x][0:dfH[\"L\"][x]] #Elimina código de H- si es que existe \n",
        "#    dfH[\"NumH\"][x] = re.sub('\\D', '', dfH[\"NumH\"][x])\n",
        "    \n",
        "#dfH = dfH.drop(columns=['Fuente', 'Conjunto', 'NombreArchivo', 'Texto', 'MetodoTexto', 'Exp', 'Expediente', 'H-', 'L'])\n",
        "#file_manual = pd.merge(file_manual,dfH,left_index=True, right_index=True, how='left')    \n"
      ],
      "execution_count": null,
      "outputs": []
    },
    {
      "cell_type": "code",
      "metadata": {
        "id": "6cZXsbnGnbJs"
      },
      "source": [
        "#Buscar expedientes y crear una columna con él\n",
        "#file_manual[\"L-\"]= file_manual[\"Texto\"].str.find('L-')\n",
        "#dfL = file_manual[file_manual['L-']>=0]\n",
        "#dfL[\"L-\"] = dfL[\"L-\"].astype(\"int\")\n",
        "\n",
        "#dfL[\"NumL\"] =  dfL[\"Texto\"]\n",
        "#for x in dfL.index :\n",
        "#    dfL[\"NumL\"][x] = dfL.Texto[x][(dfL[\"L-\"][x]):(dfL[\"L-\"][x]+10)] \n",
        "    \n",
        "#dfL[\"Date\"] = dfL[\"NumL\"].str.find('\\n')\n",
        "#for x in dfL.index :\n",
        "#    if dfL[\"Date\"][x] > 0:\n",
        "#        dfL[\"NumL\"][x] = dfL[\"NumL\"][x][0:dfL[\"Date\"][x]] #Elimina código de H- si es que existe \n",
        "#    dfL[\"NumL\"][x] = re.sub('\\D', '', dfL[\"NumL\"][x])\n",
        "\n",
        "#dfL = dfL.drop(columns=['Fuente', 'Conjunto', 'NombreArchivo', 'Texto', 'MetodoTexto', 'Exp', 'Expediente', 'H-', 'L-', 'Date'])\n",
        "#file_manual = pd.merge(file_manual,dfL,left_index=True, right_index=True, how='left')    \n",
        "\n",
        "\n",
        "#file_manual = file_manual.drop(columns=['Exp', 'H-', 'L-'])\n",
        "#file_manual = file_manual[file_manual['Conjunto'] == 'Fichas_manual']\n",
        "#file_manual.to_csv(\"A:/OneDrive - Universidad de Guanajuato\\Descargas/JusticIA_DatosTranscripcionesDaniel.csv\", sep=',') #Reading data"
      ],
      "execution_count": null,
      "outputs": []
    },
    {
      "cell_type": "markdown",
      "metadata": {
        "id": "egFjqlY9O051"
      },
      "source": [
        "##Palabras clave de interés "
      ]
    },
    {
      "cell_type": "code",
      "metadata": {
        "id": "R6rk6ug1O8yY"
      },
      "source": [
        "#Generar nueva columna para palabras clave\n",
        "#file_manual['muerto']=manual_Texto.str.contains('\\w*muerto\\w*')\n",
        "#file_manual['visitado']=manual_Texto.str.contains(r'\\w*visit\\w*')\n",
        "#file_manual['detenido']=manual_Texto.str.contains(r'\\w*detenido\\w*')\n",
        "#file_manual['declara']=manual_Texto.str.contains(r'\\w*declara\\w*')\n",
        "#file_manual['interrogado']=file_manual.Texto.str.contains('\\w*interro\\w*')\n",
        "#file_manual['secuestro']=file_manual.Texto.str.contains('\\w*secuestr\\w*')\n",
        "#file_manual['localizar']=file_manual.Texto.str.contains('\\w*locali\\w*')\n",
        "#file_manual['apoya']=file_manual.Texto.str.contains('\\w*apoy\\w*')\n",
        "#file_manual['seguir']=file_manual.Texto.str.contains('\\w*sigue\\w*')\n",
        "#file_manual['seguir']=file_manual.Texto.str.contains('\\w*segu\\w*')\n",
        "#manual['penal']=manual.Texto.str.contains('\\w*penal\\w*')"
      ],
      "execution_count": null,
      "outputs": []
    },
    {
      "cell_type": "markdown",
      "metadata": {
        "id": "UdN5kVZ3NTBy"
      },
      "source": [
        "# Matriz de similitud"
      ]
    },
    {
      "cell_type": "code",
      "metadata": {
        "id": "0Ca1ist2kb0K"
      },
      "source": [
        "path_words = 'https://raw.githubusercontent.com/Alir3z4/stop-words/master/spanish.txt'\n",
        "stop_words = pd.read_csv(path_words, header=None)"
      ],
      "execution_count": null,
      "outputs": []
    },
    {
      "cell_type": "code",
      "metadata": {
        "id": "smxshZ9biJ8-"
      },
      "source": [
        "from sklearn.feature_extraction.text import TfidfVectorizer\n",
        "\n",
        "corpus = [fichas for fichas in file_manual.Texto]\n",
        "vect = TfidfVectorizer(min_df=1, stop_words=list(stop_words.iloc[:, 0]))                                                                                                                                                                                                   \n",
        "tfidf = vect.fit_transform(corpus)                                                                                                                                                                                                                       \n",
        "pairwise_similarity = tfidf * tfidf.T "
      ],
      "execution_count": null,
      "outputs": []
    },
    {
      "cell_type": "code",
      "metadata": {
        "colab": {
          "base_uri": "https://localhost:8080/"
        },
        "id": "67qUhedujPQP",
        "outputId": "8f2f09c0-e893-4c68-dd92-3dff9dce8eb2"
      },
      "source": [
        "pairwise_similarity.toarray()"
      ],
      "execution_count": null,
      "outputs": [
        {
          "output_type": "execute_result",
          "data": {
            "text/plain": [
              "array([[1.        , 0.16350319, 0.09127116, ..., 0.03824538, 0.0095605 ,\n",
              "        0.0540146 ],\n",
              "       [0.16350319, 1.        , 0.06946588, ..., 0.01346395, 0.        ,\n",
              "        0.00612159],\n",
              "       [0.09127116, 0.06946588, 1.        , ..., 0.02501191, 0.01091962,\n",
              "        0.00910139],\n",
              "       ...,\n",
              "       [0.03824538, 0.01346395, 0.02501191, ..., 1.        , 0.00175472,\n",
              "        0.0535231 ],\n",
              "       [0.0095605 , 0.        , 0.01091962, ..., 0.00175472, 1.        ,\n",
              "        0.        ],\n",
              "       [0.0540146 , 0.00612159, 0.00910139, ..., 0.0535231 , 0.        ,\n",
              "        1.        ]])"
            ]
          },
          "metadata": {},
          "execution_count": 82
        }
      ]
    }
  ]
}